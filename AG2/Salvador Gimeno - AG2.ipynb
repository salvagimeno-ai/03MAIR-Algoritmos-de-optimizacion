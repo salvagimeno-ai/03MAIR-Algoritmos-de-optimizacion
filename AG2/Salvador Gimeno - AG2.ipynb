{
 "cells": [
  {
   "cell_type": "markdown",
   "metadata": {},
   "source": [
    "# Nombre: Salvador Gimeno\n",
    "\n",
    "### Actividad Guiada 2 - AG2\n",
    "\n",
    "### Github: https://github.com/salvagimeno-ai/03MAIR-Algoritmos-de-optimizacion/tree/master/AG2 "
   ]
  },
  {
   "cell_type": "code",
   "execution_count": 1,
   "metadata": {},
   "outputs": [],
   "source": [
    "# Decorador para calcular el tiempo de ejecucuion\n",
    "from time import time\n",
    "\n",
    "def calcular_tiempo(f):\n",
    "   \n",
    "    def wrapper(*args, **kwargs):        \n",
    "        inicio = time()       \n",
    "        resultado = f(*args, **kwargs)       \n",
    "        tiempo = time() - inicio\n",
    "        print(\"Tiempo de ejecución para algoritmo: \"+str(tiempo))\n",
    "        return resultado\n",
    "    \n",
    "    return wrapper\n",
    "from time import time"
   ]
  },
  {
   "cell_type": "markdown",
   "metadata": {},
   "source": [
    "## Algoritmo con tecnica de programacion dinamica"
   ]
  },
  {
   "cell_type": "code",
   "execution_count": 2,
   "metadata": {},
   "outputs": [],
   "source": [
    "# tala TARIFAS contiene el precio que cuesta ir desde cada nodo a todos los otros nodos de la tabla\n",
    "# Para los casos donde no se puede ir de un nodo a otro, colocaremos un valor muy alto '999' \n",
    "# para esa combinacion, para que el algoritmo no tenga en cuenta esa posibilidad\n",
    "TARIFAS = [\n",
    "[0,5,4,3,999,999,999],\n",
    "[999,0,999,2,3,999,11],\n",
    "[999,999, 0,1,999,4,10],\n",
    "[999,999,999, 0,5,6,9],\n",
    "[999,999, 999,999,0,999,4],\n",
    "[999,999, 999,999,999,0,3],\n",
    "[999,999,999,999,999,999,0]\n",
    "]"
   ]
  },
  {
   "cell_type": "code",
   "execution_count": 3,
   "metadata": {},
   "outputs": [
    {
     "name": "stdout",
     "output_type": "stream",
     "text": [
      "Matriz de precios:  [[999, 5, 4, 3, 8, 8, 11], [999, 999, 999, 2, 3, 8, 7], [999, 999, 999, 1, 6, 4, 7], [999, 999, 999, 999, 5, 6, 9], [999, 999, 999, 999, 999, 999, 4], [999, 999, 999, 999, 999, 999, 3], [999, 999, 999, 999, 999, 999, 999]]\n",
      "\n",
      "Rutas:  [['', 0, 0, 0, 1, 2, 5], ['', '', 1, 1, 1, 3, 4], ['', '', '', 2, 3, 2, 5], ['', '', '', '', 3, 3, 3], ['', '', '', '', '', 4, 4], ['', '', '', '', '', '', 5], ['', '', '', '', '', '', '']]\n"
     ]
    }
   ],
   "source": [
    "def precios(TARIFAS):\n",
    "    N = len(TARIFAS)\n",
    "    PRECIOS = [[999]*N for i in [9999]*N]\n",
    "    RUTAS = [[\"\"]*N for i in [9999]*N]\n",
    "  \n",
    " \n",
    "    for i in range(N-1):\n",
    "        for j in range(i+1,N):\n",
    "            MIN = TARIFAS[i][j]\n",
    "            RUTAS[i][j] = i\n",
    "      \n",
    "            for k in range(i,j):\n",
    "                if PRECIOS[i][k]+ TARIFAS[k][j] < MIN:\n",
    "                    MIN = min( MIN , PRECIOS[i][k]+ TARIFAS[k][j] )\n",
    "                    RUTAS[i][j] = k\n",
    "            PRECIOS[i][j] = MIN\n",
    "      \n",
    "    return PRECIOS, RUTAS\n",
    "\n",
    "  \n",
    "PRECIOS, RUTAS = precios(TARIFAS)\n",
    "\n",
    "print('Matriz de precios: ' , PRECIOS)\n",
    "#print(PRECIOS)\n",
    "print()\n",
    "\n",
    "print('Rutas: ' , RUTAS)\n"
   ]
  },
  {
   "cell_type": "code",
   "execution_count": 4,
   "metadata": {},
   "outputs": [],
   "source": [
    "def calcular_ruta(RUTAS, desde, hasta):\n",
    "    if desde == hasta:\n",
    "        #print(\"Ir a :\" + str(desde))\n",
    "        return desde \n",
    "    else:\n",
    "        return str(calcular_ruta(RUTAS, desde, RUTAS[desde][hasta])) +  ',' + str(RUTAS[desde][hasta]) \n",
    "    "
   ]
  },
  {
   "cell_type": "code",
   "execution_count": 5,
   "metadata": {},
   "outputs": [
    {
     "name": "stdout",
     "output_type": "stream",
     "text": [
      "La ruta es:  0,0,2,5\n"
     ]
    }
   ],
   "source": [
    "print('La ruta es: ', calcular_ruta(RUTAS, 0,6))\n",
    "\n"
   ]
  },
  {
   "cell_type": "code",
   "execution_count": 6,
   "metadata": {},
   "outputs": [
    {
     "data": {
      "text/plain": [
       "([[999, 5, 4, 3, 8, 8, 11],\n",
       "  [999, 999, 999, 2, 3, 8, 7],\n",
       "  [999, 999, 999, 1, 6, 4, 7],\n",
       "  [999, 999, 999, 999, 5, 6, 9],\n",
       "  [999, 999, 999, 999, 999, 999, 4],\n",
       "  [999, 999, 999, 999, 999, 999, 3],\n",
       "  [999, 999, 999, 999, 999, 999, 999]],\n",
       " [['', 0, 0, 0, 1, 2, 5],\n",
       "  ['', '', 1, 1, 1, 3, 4],\n",
       "  ['', '', '', 2, 3, 2, 5],\n",
       "  ['', '', '', '', 3, 3, 3],\n",
       "  ['', '', '', '', '', 4, 4],\n",
       "  ['', '', '', '', '', '', 5],\n",
       "  ['', '', '', '', '', '', '']])"
      ]
     },
     "execution_count": 6,
     "metadata": {},
     "output_type": "execute_result"
    }
   ],
   "source": [
    "precios(TARIFAS)"
   ]
  },
  {
   "cell_type": "markdown",
   "metadata": {},
   "source": [
    "## Asignación de tareas - Ramificación y poda"
   ]
  },
  {
   "cell_type": "code",
   "execution_count": 7,
   "metadata": {},
   "outputs": [],
   "source": [
    "import itertools\n",
    "from functools import wraps\n",
    "\n",
    "def cacular_tiempo(f):\n",
    "    @wraps(f)\n",
    "    def cronometro(*args, **kwargs):\n",
    "        t_inicial = time()\n",
    "        salida = f(*args, **kwargs)\n",
    "        t_final = time()\n",
    "        print('Tiempo transcurrido en segundos: {}'.format(t_final - t_inicial))\n",
    "        return salida\n",
    "    return cronometro"
   ]
  },
  {
   "cell_type": "code",
   "execution_count": 8,
   "metadata": {},
   "outputs": [],
   "source": [
    "COSTES=[[11,12,18,40],   #cada fila = 1 agente\n",
    "        [14,15,13,22],   #cada columna es el coste de cada tarea\n",
    "        [11,17,19,23],\n",
    "        [17,14,20,28]]\n",
    "\n",
    "# [11,12,18,40] - costes del agente 0 para cada tarea\n",
    "# 11 (tarea 0), 12 (tarea 1), 18 (tarea 2),..."
   ]
  },
  {
   "cell_type": "code",
   "execution_count": 9,
   "metadata": {},
   "outputs": [
    {
     "data": {
      "text/plain": [
       "73"
      ]
     },
     "execution_count": 9,
     "metadata": {},
     "output_type": "execute_result"
    }
   ],
   "source": [
    "# definimos una funcion para calcular el coste de una asignacion de \n",
    "# tareas dada\n",
    "def valor(S, COSTES):\n",
    "    VALOR =0\n",
    "    for i in range(len(S)):\n",
    "        VALOR += COSTES[S[i]][i]\n",
    "    return VALOR\n",
    "\n",
    "valor((0,1,2,3), COSTES)\n",
    "        "
   ]
  },
  {
   "cell_type": "code",
   "execution_count": 10,
   "metadata": {},
   "outputs": [],
   "source": [
    "# el metodo de fuerza bruta revisaria todas las combinaciones posibles\n",
    "    \n",
    "def fuerza_bruta(COSTES):\n",
    "    mejor_valor=10e10   #inicializamos el mejor valor en un valor muy alto\n",
    "    mejor_solucion = ''\n",
    "    \n",
    "    for S in list(itertools.permutations(range(len(COSTES)))):\n",
    "        valor_tmp = valor(S, COSTES)\n",
    "        if valor_tmp < mejor_valor:\n",
    "            mejor_solucion = S\n",
    "            mejor_valor = valor_tmp\n",
    "    print(\"La mejor solución es: \" , mejor_solucion)"
   ]
  },
  {
   "cell_type": "code",
   "execution_count": 11,
   "metadata": {},
   "outputs": [
    {
     "name": "stdout",
     "output_type": "stream",
     "text": [
      "La mejor solución es:  (0, 3, 1, 2)\n"
     ]
    }
   ],
   "source": [
    "fuerza_bruta(COSTES)"
   ]
  },
  {
   "cell_type": "code",
   "execution_count": 12,
   "metadata": {},
   "outputs": [
    {
     "data": {
      "text/plain": [
       "[(0, 1, 2, 3),\n",
       " (0, 1, 3, 2),\n",
       " (0, 2, 1, 3),\n",
       " (0, 2, 3, 1),\n",
       " (0, 3, 1, 2),\n",
       " (0, 3, 2, 1),\n",
       " (1, 0, 2, 3),\n",
       " (1, 0, 3, 2),\n",
       " (1, 2, 0, 3),\n",
       " (1, 2, 3, 0),\n",
       " (1, 3, 0, 2),\n",
       " (1, 3, 2, 0),\n",
       " (2, 0, 1, 3),\n",
       " (2, 0, 3, 1),\n",
       " (2, 1, 0, 3),\n",
       " (2, 1, 3, 0),\n",
       " (2, 3, 0, 1),\n",
       " (2, 3, 1, 0),\n",
       " (3, 0, 1, 2),\n",
       " (3, 0, 2, 1),\n",
       " (3, 1, 0, 2),\n",
       " (3, 1, 2, 0),\n",
       " (3, 2, 0, 1),\n",
       " (3, 2, 1, 0)]"
      ]
     },
     "execution_count": 12,
     "metadata": {},
     "output_type": "execute_result"
    }
   ],
   "source": [
    "## TEST: Funcion para CALCULO PERMUTACIONES de una lista\n",
    "#list(itertools.permutations([0,1,2,3]))\n",
    "list(itertools.permutations(range(len(COSTES))))"
   ]
  },
  {
   "cell_type": "code",
   "execution_count": 13,
   "metadata": {},
   "outputs": [],
   "source": [
    "# ESTIMACIÓN DEL COSTE INFERIOR PARA UNA SOLUCION PARCIAL\n",
    "def CI(S, COSTES):\n",
    "    VALOR = 0\n",
    "    \n",
    "    for i in range(len(S)):\n",
    "        VALOR += COSTES[i][S[i]]\n",
    "    \n",
    "    #Estimaciones\n",
    "    for i in range(len(COSTES)):\n",
    "        if i not in S:\n",
    "            VALOR += min ([ COSTES[j][i] for j in range((len(S)), len(COSTES)) ])\n",
    "    \n",
    "    return VALOR\n",
    "\n",
    "CI((1,2), COSTES)\n",
    "\n",
    "#definimos una funcion para expandir (crear hijos)\n",
    "def crear_hijos(NODO, N):   # N seria la dimensionalidad del problema\n",
    "    HIJOS = []      #aqui vamos a ir acumulando los hijos\n",
    "    for i in range(N):\n",
    "        if i not in NODO:\n",
    "            HIJOS.append( {'s':NODO+(i,)})\n",
    "\n",
    "    return HIJOS\n",
    "\n",
    "# hijos de...\n",
    "# (0,2) --> (0,2,1), (0,2,3) - podriamos asignar la tarea 1 y la 3\n"
   ]
  },
  {
   "cell_type": "code",
   "execution_count": 14,
   "metadata": {},
   "outputs": [
    {
     "data": {
      "text/plain": [
       "[{'s': (0, 2, 1)}, {'s': (0, 2, 3)}]"
      ]
     },
     "execution_count": 14,
     "metadata": {},
     "output_type": "execute_result"
    }
   ],
   "source": [
    "crear_hijos((0,2),4)"
   ]
  },
  {
   "cell_type": "code",
   "execution_count": 15,
   "metadata": {},
   "outputs": [],
   "source": [
    "COSTES=[[11,12,18,40],   #cada fila = 1 agente\n",
    "        [14,15,13,22],   #cada columna es el coste de cada tarea\n",
    "        [11,17,19,23],\n",
    "        [17,14,20,28]]\n",
    "\n",
    "# [11,12,18,40] - costes del agente 0 para cada tarea\n",
    "# 11 (tarea 0), 12 (tarea 1), 18 (tarea 2),..."
   ]
  },
  {
   "cell_type": "code",
   "execution_count": 19,
   "metadata": {},
   "outputs": [
    {
     "name": "stdout",
     "output_type": "stream",
     "text": [
      "\n",
      "# 1\n",
      "{'s': (), 'ci': 58}\n",
      "\n",
      "# 2\n",
      "{'s': (1,), 'ci': 58}\n",
      "\n",
      "# 3\n",
      "{'s': (1, 2), 'ci': 59}\n",
      "\n",
      "# 4\n",
      "{'s': (0,), 'ci': 60}\n",
      "\n",
      "# 5\n",
      "{'s': (0, 2), 'ci': 61}\n",
      "\n",
      "# 6\n",
      "{'s': (0, 2, 3), 'ci': 61}\n",
      "\n",
      "# 7\n",
      "{'s': (1, 3), 'ci': 64}\n",
      "\n",
      "# 8\n",
      "{'s': (1, 2, 0), 'ci': 64}\n",
      "\n",
      "# 9\n",
      "{'s': (2,), 'ci': 65}\n",
      "\n",
      "# 10\n",
      "{'s': (1, 2, 3), 'ci': 65}\n",
      "\n",
      "# 11\n",
      "{'s': (0, 3), 'ci': 66}\n",
      "\n",
      "# 12\n",
      "{'s': (1, 0), 'ci': 68}\n",
      "\n",
      "# 13\n",
      "{'s': (0, 1), 'ci': 68}\n",
      "\n",
      "# 14\n",
      "{'s': (0, 2, 1), 'ci': 69}\n",
      "La mejor solucion es:  {'s': (0, 2, 3, 1), 'ci': 61}\n"
     ]
    }
   ],
   "source": [
    "def ramificacion_y_poda(COSTES):\n",
    "    DIMENSION = len(COSTES)\n",
    "    MEJOR_SOLUCION = tuple(i for i in range(DIMENSION))\n",
    "    \n",
    "    CotaSup = valor(MEJOR_SOLUCION, COSTES)\n",
    "    \n",
    "    NODOS=[]\n",
    "    NODOS.append({'s':(), 'ci': CI((), COSTES)})\n",
    "    \n",
    "    #NODOS.append({'s':(1,), 'ci': 34 })\n",
    "    \n",
    "    #print(NODOS)\n",
    "    \n",
    "    iteracion=0\n",
    "    \n",
    "    while (len(NODOS) > 0):\n",
    "        iteracion +=1\n",
    "        print('\\n#', iteracion)\n",
    "        \n",
    "        nodo_prometedor = min(NODOS, key=lambda x:x['ci'])\n",
    "        #return nodo_prometedor\n",
    "        \n",
    "        #obtenemos los hijos\n",
    "        HIJOS = [ {'s':x['s'], 'ci':CI(x['s'], COSTES) } for x in crear_hijos(nodo_prometedor['s'], DIMENSION) ]\n",
    "        \n",
    "        #ver si alguno de los hijos son estados finales\n",
    "        #y los colocamos en la lista NODO_FINAL\n",
    "        NODO_FINAL = [ x for x in HIJOS if len(x['s']) == DIMENSION ]\n",
    "        if len(NODO_FINAL) > 0:\n",
    "            #haremos una revision\n",
    "            if NODO_FINAL[0]['ci'] < CotaSup:\n",
    "                #establecemos una nueva CotaSup\n",
    "                CotaSup = NODO_FINAL[0]['ci']\n",
    "                #actualizamos como solucion el nodo final\n",
    "                MEJOR_SOLUCION = NODO_FINAL[0]\n",
    "                \n",
    "        #PODA: eliminamos los hijos q no son prometedores\n",
    "        HIJOS = [x for x in HIJOS if x['ci']< CotaSup ]\n",
    "        \n",
    "        print(nodo_prometedor)\n",
    "        #eliminamos el nodo expandido\n",
    "        NODOS = [x for x in NODOS if x['s'] != nodo_prometedor['s'] ]\n",
    "        \n",
    "        #añadimos los nuevos hijos a la lista de nodos pendientes de analizar\n",
    "        NODOS.extend(HIJOS)\n",
    "        \n",
    "        #print(NODOS)\n",
    "        \n",
    "        #return HIJOS\n",
    "    print(\"La mejor solucion es: \", MEJOR_SOLUCION)\n",
    "    \n",
    "ramificacion_y_poda(COSTES)    \n"
   ]
  }
 ],
 "metadata": {
  "kernelspec": {
   "display_name": "Python 3",
   "language": "python",
   "name": "python3"
  },
  "language_info": {
   "codemirror_mode": {
    "name": "ipython",
    "version": 3
   },
   "file_extension": ".py",
   "mimetype": "text/x-python",
   "name": "python",
   "nbconvert_exporter": "python",
   "pygments_lexer": "ipython3",
   "version": "3.7.0"
  }
 },
 "nbformat": 4,
 "nbformat_minor": 2
}
