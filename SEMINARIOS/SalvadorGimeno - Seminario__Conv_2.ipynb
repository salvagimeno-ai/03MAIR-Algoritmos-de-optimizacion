{
  "nbformat": 4,
  "nbformat_minor": 0,
  "metadata": {
    "colab": {
      "name": "Seminario_Algoritmos_SalvadorGimeno_Conv.2.ipynb",
      "provenance": [],
      "collapsed_sections": []
    },
    "kernelspec": {
      "name": "python3",
      "display_name": "Python 3"
    }
  },
  "cells": [
    {
      "cell_type": "markdown",
      "metadata": {
        "id": "hVbXYX-RfPWh",
        "colab_type": "text"
      },
      "source": [
        "# Algoritmos de optimización - Seminario<br>\n",
        "Nombre y Apellidos: **SALVADOR GIMENO DESCO**  <br>\n",
        "Url: https://github.com/salvagimeno-ai/03MAIR-Algoritmos-de-optimizacion/tree/master/SEMINARIOS<br>\n",
        "**Problema:**\n",
        ">3. Combinar cifras y operaciones\n",
        "\n",
        "**Descripción del problema:**(copiar enunciado)\n",
        "\n",
        "Disponemos de las 9 cifras del 1 al 9 (excluimos el cero) y de los 4 signos básicos de las operaciones fundamentales: suma(+), resta(-), multiplicación(*) y división(/).\n",
        "Debemos combinarlos alternativamente sin repetir ninguno de ellos para obtener una cantidad dada.\n",
        "\n",
        "(*) La respuesta es obligatoria\n",
        "\n",
        "\n",
        "\n",
        "\n",
        "\n",
        "                                        "
      ]
    },
    {
      "cell_type": "code",
      "metadata": {
        "id": "AiskKkzZfy4e",
        "colab_type": "code",
        "colab": {}
      },
      "source": [
        "# EN PRIMER LUGAR IMPORTAMOS LAS LIBRERIAS QUE IREMOS USANDO DURANTE EL EJERCICIO:\n",
        "import numpy as np\n",
        "from operator import itemgetter\n",
        "import matplotlib.pyplot as plt\n",
        "import random\n",
        "import pprint\n",
        "import sys\n",
        "import pandas as pd\n",
        "sys.setrecursionlimit(100000)\n",
        "import math"
      ],
      "execution_count": 0,
      "outputs": []
    },
    {
      "cell_type": "markdown",
      "metadata": {
        "id": "3_-exlrTgLd-",
        "colab_type": "text"
      },
      "source": [
        "**Pregunta 1:**\n",
        "> 1.1: (*)¿Cuantas posibilidades hay sin tener en cuenta las restricciones?<br>\n",
        "\n",
        "\n",
        "\n",
        "> 1.2: ¿Cuantas posibilidades hay teniendo en cuenta todas las restricciones.\n",
        "\n",
        "\n"
      ]
    },
    {
      "cell_type": "markdown",
      "metadata": {
        "id": "WfCUqJyKhPcw",
        "colab_type": "text"
      },
      "source": [
        "**Respuesta 1.1:**\n",
        "> Si no tuvieramos en cuenta la restriccion de que no se pueden repetir los numeros ni los signos, el numero de posibilidades serían: \n",
        "    (9^5)*(4^4) = 15116544"
      ]
    },
    {
      "cell_type": "code",
      "metadata": {
        "id": "sIQ0wl40yS39",
        "colab_type": "code",
        "outputId": "2622d676-5540-4ff9-8a20-946e9d07abf7",
        "colab": {
          "base_uri": "https://localhost:8080/",
          "height": 35
        }
      },
      "source": [
        "P = (9**5)*(4**4) \n",
        "P"
      ],
      "execution_count": 2,
      "outputs": [
        {
          "output_type": "execute_result",
          "data": {
            "text/plain": [
              "15116544"
            ]
          },
          "metadata": {
            "tags": []
          },
          "execution_count": 2
        }
      ]
    },
    {
      "cell_type": "markdown",
      "metadata": {
        "id": "CaohxRSOywJU",
        "colab_type": "text"
      },
      "source": [
        "**Respuesta 1.2:** \n",
        "> Teniendo en cuenta las restricciones que no se pueden repetir ni los numeros ni las operaciones, las posibilidade serían:\n",
        "> $9*8*7*6*5 * 4! = 9! = 362880$ soluciones posibles.\n"
      ]
    },
    {
      "cell_type": "code",
      "metadata": {
        "id": "iq6Fe32MgpDX",
        "colab_type": "code",
        "outputId": "6f144599-bacc-41dd-b3ac-6675578bb866",
        "colab": {
          "base_uri": "https://localhost:8080/",
          "height": 35
        }
      },
      "source": [
        "P = (9*8*7*6*5)* 4*3*2*1\n",
        "P"
      ],
      "execution_count": 3,
      "outputs": [
        {
          "output_type": "execute_result",
          "data": {
            "text/plain": [
              "362880"
            ]
          },
          "metadata": {
            "tags": []
          },
          "execution_count": 3
        }
      ]
    },
    {
      "cell_type": "markdown",
      "metadata": {
        "id": "dzynfVJahHoY",
        "colab_type": "text"
      },
      "source": [
        "**Pregunta 2: Modelo para el espacio de soluciones**<br>\n",
        "(*) ¿Cual es la estructura de datos que mejor se adapta al problema? Argumentalo.(Es posible que hayas elegido una al principio y veas la necesidad de cambiar, arguentalo)\n"
      ]
    },
    {
      "cell_type": "markdown",
      "metadata": {
        "id": "xFIJrOwKi2Ti",
        "colab_type": "text"
      },
      "source": [
        "**Respuesta 2:**\n",
        "Un array de todos los números posibles, ordenados de menor a mayor NUMEROS=[1,2,3,4,5,6,7,8,9], b) Un array con todos los posibles operadores. OPERADORES=[\"+\",\"*\",\"-\",\"/\"]\n",
        "\n",
        ">> NUMEROS=[1,2,3,4,5,6,7,8,9]\n",
        "\n",
        ">> OPERADORES=[\"+\",\"*\",\"-\",\"/\"]"
      ]
    },
    {
      "cell_type": "markdown",
      "metadata": {
        "id": "7Z9U2W7bi-XS",
        "colab_type": "text"
      },
      "source": [
        "**Pregunta 3:** Según el modelo para el espacio de soluciones\n",
        "\n",
        "3.1 (*) ¿Cual es la función objetivo?\n",
        "\n",
        "3.2 (*)¿Es un problema de maximización o minimización?"
      ]
    },
    {
      "cell_type": "markdown",
      "metadata": {
        "id": "hBalWLM7j1_d",
        "colab_type": "text"
      },
      "source": [
        "**Respuesta 3.1:**\n",
        "Minimizar 'd' o la diferencia entre la solucion_objetivo y la solucion_propuesta.\n",
        "> d = solucion_objetivo - solucion_propuesta\n",
        "\n",
        "> solucion_propuesta = eval(expresion)\n",
        "\n",
        "> expresion=str(n[0])+str(o[0])+str(n[1])+str(o[1])+str(n[2])+str(o[2])+str(n[3])+str(o[3]+str(n[4])),\n",
        "\n",
        "siendo:\n",
        "- n: vector de numeros: n = [4,2,6,3,1]\n",
        "- o: vector de operaciones: o = ['+','-','/','*']     "
      ]
    },
    {
      "cell_type": "code",
      "metadata": {
        "id": "MLfHyEwk7rvY",
        "colab_type": "code",
        "outputId": "871da059-e081-4f36-cf56-a13cef72cf62",
        "colab": {
          "base_uri": "https://localhost:8080/",
          "height": 35
        }
      },
      "source": [
        "# Ejemplo: solucion_objetivo: 4 = 4+2-6/3*1\n",
        "# Resolucion:\n",
        "#solucion_objetivo = 4\n",
        "#n = [4,2,6,3,1]    # vector de números  \n",
        "#o = ['+','-','/','*']     # vector de operaciones\n",
        "#expresion=str(n[0])+str(o[0])+str(n[1])+str(o[1])+str(n[2])+str(o[2])+str(n[3])+str(o[3]+str(n[4]))\n",
        "#expresion   # = '4+2-6/3*1'\n",
        "#solucion_propuesta = eval(expresion)\n",
        "#solucion_propuesta\n",
        "#d = solucion_objetivo - solucion_propuesta\n",
        "#print('la diferencia entre la solucion_objetivo - solucion_propuesta es: ', d)\n",
        "\n",
        "# ejemplo:\n",
        "n = [4,2,6,3,1]    # vector de números  \n",
        "o = ['+','-','/','*']     # vector de operaciones\n",
        "expresion=str(n[0])+str(o[0])+str(n[1])+str(o[1])+str(n[2])+str(o[2])+str(n[3])+str(o[3]+str(n[4]))\n",
        "expresion   # = '4+2-6/3*1'\n",
        "\n",
        "# calculamos la diferencia con el valor objetivo\n",
        "def dif_objetivo(valor_objetivo, expresion):\n",
        "  solucion_propuesta = eval(expresion)\n",
        "  diferencia = valor_objetivo - solucion_propuesta\n",
        "  return diferencia\n",
        "\n",
        "#dif_objetivo(4, expresion)\n",
        "print('la diferencia entre la solucion_objetivo - solucion_propuesta es: ', dif_objetivo(4, expresion))"
      ],
      "execution_count": 4,
      "outputs": [
        {
          "output_type": "stream",
          "text": [
            "la diferencia entre la solucion_objetivo - solucion_propuesta es:  0.0\n"
          ],
          "name": "stdout"
        }
      ]
    },
    {
      "cell_type": "markdown",
      "metadata": {
        "id": "lBFi38Xs32li",
        "colab_type": "text"
      },
      "source": [
        "**Respuesta 3.2:**\n",
        "\n",
        "Sería un problema de **minimización** de la diferencia entre la solucion_objetivo y la solucion_propuesta."
      ]
    },
    {
      "cell_type": "markdown",
      "metadata": {
        "id": "rlnTYgY1j6I2",
        "colab_type": "text"
      },
      "source": [
        "**Pregunta 4:**\n",
        "\n",
        "Diseña un algoritmo para resolver el problema por fuerza bruta"
      ]
    },
    {
      "cell_type": "markdown",
      "metadata": {
        "id": "70rDgxYXkC8r",
        "colab_type": "text"
      },
      "source": [
        "Respuesta"
      ]
    },
    {
      "cell_type": "code",
      "metadata": {
        "id": "CJb5sQ0qkENy",
        "colab_type": "code",
        "colab": {}
      },
      "source": [
        "from time import time\n",
        "\n",
        "#Función para calcular el tiempo de ejecución\n",
        "def calcular_tiempo(f): \n",
        "    def wrapper(*args, **kwargs):      \n",
        "        inicio = time()       \n",
        "        resultado = f(*args, **kwargs)       \n",
        "        tiempo = time() - inicio\n",
        "        print(\"Tiempo de ejecución para algoritmo: \"+str(tiempo))\n",
        "        return resultado \n",
        "    return wrapper"
      ],
      "execution_count": 0,
      "outputs": []
    },
    {
      "cell_type": "code",
      "metadata": {
        "id": "8KGPiX3uDE42",
        "colab_type": "code",
        "outputId": "14167e7c-7b35-4700-d206-552a9a6b860e",
        "colab": {
          "base_uri": "https://localhost:8080/",
          "height": 69
        }
      },
      "source": [
        "# Algoritmo para resolución del problema por fuerza bruta\n",
        "@calcular_tiempo\n",
        "def combinar_cifras_operaciones(valor):\n",
        "  \n",
        "  operadores = ['*','+','-','/']\n",
        "  valores = [1,2,3,4,5,6,7,8,9]\n",
        "  \n",
        "\n",
        "  for d1 in range(1,10):\n",
        "    for op1 in operadores:\n",
        "      for d2 in valores: \n",
        "        if d2 != d1:\n",
        "          for op2 in operadores:\n",
        "            if op1!=op2:\n",
        "              for d3 in valores:\n",
        "                if d3!=d1 and d3!=d2:\n",
        "                  for op3 in operadores:\n",
        "                    if op3!=op1 and op3!=op2:\n",
        "                      for d4 in valores:\n",
        "                        if d4!=d3 and d4!=d2 and d4!=d1:\n",
        "                          for op4 in operadores:\n",
        "                            if op4!=op3 and op4!=op2 and op4!=op1:\n",
        "                              for d5 in valores:\n",
        "                                if d5!=d4 and d5!=d3 and d5!=d2 and d5!=d1:                                                  \n",
        "                                  formula = str(d1)+op1+str(d2)+op2+str(d3)+op3+str(d4)+op4+str(d5)\n",
        "                                  # Evaluamos la expresión \n",
        "                                  if (eval(formula)==valor):\n",
        "                                    print(\"Resultado x Fuerza Bruta:\")\n",
        "                                    print(formula,\"=\",str(valor))\n",
        "                                    return\n",
        "  \n",
        "\n",
        "  # En caso que no hayamos encontrado ninguna solución: \n",
        "  print(\"No hemos encontrado solución\");\n",
        "  \n",
        "\n",
        "combinar_cifras_operaciones(57)"
      ],
      "execution_count": 6,
      "outputs": [
        {
          "output_type": "stream",
          "text": [
            "Resultado x Fuerza Bruta:\n",
            "2+7*9-8/1 = 57\n",
            "Tiempo de ejecución para algoritmo: 0.45126891136169434\n"
          ],
          "name": "stdout"
        }
      ]
    },
    {
      "cell_type": "markdown",
      "metadata": {
        "id": "tgrnsC2nkFa8",
        "colab_type": "text"
      },
      "source": [
        "**Pregunta 5:**\n",
        "\n",
        "Calcula la complejidad del algoritmo por fuerza bruta"
      ]
    },
    {
      "cell_type": "markdown",
      "metadata": {
        "id": "9eUd3xwckP68",
        "colab_type": "text"
      },
      "source": [
        "**Respuesta:**\n",
        "\n",
        "La complejidad del algoritmo será igual a:\n",
        "operaciones en cada bucle * combinaciones de signos =\n",
        "O((N * N-1 * N-2 * N-3 * N-4)* (4 * 3 * 2 * 1))"
      ]
    },
    {
      "cell_type": "code",
      "metadata": {
        "id": "rvZWwL-ckRST",
        "colab_type": "code",
        "outputId": "25bee226-28e4-4818-e080-aad165fd0275",
        "colab": {
          "base_uri": "https://localhost:8080/",
          "height": 35
        }
      },
      "source": [
        "Complejidad = 9 * 8 * 7 * 6 * 5 * 4 * 3 * 2 * 1\n",
        "Complejidad"
      ],
      "execution_count": 0,
      "outputs": [
        {
          "output_type": "execute_result",
          "data": {
            "text/plain": [
              "362880"
            ]
          },
          "metadata": {
            "tags": []
          },
          "execution_count": 17
        }
      ]
    },
    {
      "cell_type": "markdown",
      "metadata": {
        "id": "txbrmLmskReM",
        "colab_type": "text"
      },
      "source": [
        "**Pregunta 6:**\n",
        "\n",
        "Diseña un algoritmo que mejore la complejidad del algortimo por fuerza bruta. Argumenta porque crees que mejora el algoritmo por fuerza bruta"
      ]
    },
    {
      "cell_type": "markdown",
      "metadata": {
        "id": "hLrVwt5QkZPD",
        "colab_type": "text"
      },
      "source": [
        "**Respuesta 6:**"
      ]
    },
    {
      "cell_type": "markdown",
      "metadata": {
        "id": "QYtlg9UsfA-A",
        "colab_type": "text"
      },
      "source": [
        "### Aproximación Metaheuristica (Busqueda Aleatoria) \n",
        "Una aproximación alternativa a la fuerza bruta sería hacer busquedas aleatorias con un límite prefijado de busquedas (iteraciones), donde al final se presenta el resultado de la iteración que más se aproximó al valor objetivo. \n",
        "\n",
        "![alt text](https://ccc.inaoep.mx/~emorales/Cursos/Busqueda/img189.png)\n",
        "\n",
        "La búsqueda aleatoria pura casi siempre converge a la solución óptima y es aplicable a casila totalidad de los problemas de optimización debidoa los pocos supuestos necesarios para su uso.\n",
        "\n",
        "La principal desventaja que presenta el métodoradica en que puede ser lento para encontrar unasolución óptima o muy cercana al óptimo, aunqueeste problema se ve mitigado por la gran evoluciónque los sistemas cómputo tienen en la actualidad.\n",
        "\n"
      ]
    },
    {
      "cell_type": "code",
      "metadata": {
        "id": "Navp-Pq7fDPj",
        "colab_type": "code",
        "colab": {}
      },
      "source": [
        "import random\n",
        "# Generamos una solución aleatoria \n",
        "def formula_aleatoria():\n",
        "    expr = e[:]\n",
        "    numbers = num[:]\n",
        "    solution = []\n",
        "    for _ in range(len(e)):\n",
        "        numChoice = random.choice(numbers)\n",
        "        numbers.remove(numChoice)\n",
        "        exprChoice = random.choice(expr)\n",
        "        expr.remove(exprChoice)\n",
        "        solution.append(numChoice)\n",
        "        solution.append(exprChoice)\n",
        "    solution.append(random.choice(numbers))\n",
        "    #diferencia = dif_objetivo(57, str(solution))\n",
        "    valor_actual = eval(''.join(solution))\n",
        "    return formula, valor_actual    # solution: ['3', '/', '2', '-', '8', '+', '4', '*', '7']\n",
        "\n",
        "# Calculamos la diferencia entre valor generado y valor deseado :\n",
        "def diferencia(valor_deseado, valor_actual):\n",
        "    return abs(valor_deseado - valor_actual)\n",
        "\n",
        "# verificacion:\n",
        "#e = [\"+\",'-','*','/']\n",
        "#num = [\"1\",\"2\",\"3\",\"4\",\"5\",\"6\",\"7\",\"8\",\"9\"]\n",
        "#formula, valor = formula_aleatoria()\n",
        "#print(formula)\n",
        "#print(valor)\n",
        "#n = 57\n",
        "#print(diferencia(n, formula))\n",
        "#diferencia"
      ],
      "execution_count": 0,
      "outputs": []
    },
    {
      "cell_type": "code",
      "metadata": {
        "id": "vUJXo805hKgI",
        "colab_type": "code",
        "outputId": "7605e7d1-15c0-4bc4-b472-7c71dac252da",
        "colab": {
          "base_uri": "https://localhost:8080/",
          "height": 87
        }
      },
      "source": [
        "# Generamos la formula aproximada para obtener un valor deseado:\n",
        "# Parametros: n: valor deseado, it: numero de iteraciones\n",
        "@calcular_tiempo\n",
        "def FormulaValorDeseado(n, it):\n",
        "    contador = 0\n",
        "    menor_diferencia = 99999999999999999\n",
        "    while contador < it:\n",
        "        formula, valor_actual = formula_aleatoria()\n",
        "        if valor_actual == n:\n",
        "            menor_diferencia = 0\n",
        "            return mejor_solucion, valor_actual, menor_diferencia\n",
        "        else:\n",
        "          diferencia_actual = diferencia(n, valor_actual)\n",
        "          if menor_diferencia > diferencia_actual:\n",
        "            mejor_solucion = formula\n",
        "            menor_diferencia = diferencia_actual\n",
        "          contador += 1\n",
        "    return mejor_solucion, valor_actual, menor_diferencia\n",
        "\n",
        "# parametros:\n",
        "e = [\"+\",'-','*','/']\n",
        "num = [\"1\",\"2\",\"3\",\"4\",\"5\",\"6\",\"7\",\"8\",\"9\"]\n",
        "#num = generateNumbers(9)\n",
        "\n",
        "# EJECUTAMOS EL CALCULO:\n",
        "n = 57\n",
        "it = 5000\n",
        "mejor_solucion, valor_actual, menor_diferencia = FormulaValorDeseado(n, it)\n",
        "print(mejor_solucion)\n",
        "print(valor_actual)\n",
        "print(menor_diferencia)"
      ],
      "execution_count": 0,
      "outputs": [
        {
          "output_type": "stream",
          "text": [
            "Tiempo de ejecución para algoritmo: 0.0011212825775146484\n",
            "['5', '/', '7', '*', '9', '+', '8', '-', '1']\n",
            "57.0\n",
            "0\n"
          ],
          "name": "stdout"
        }
      ]
    },
    {
      "cell_type": "markdown",
      "metadata": {
        "id": "eGDB4K6uk1iN",
        "colab_type": "text"
      },
      "source": [
        "**Pregunta 7:**\n",
        "\n",
        "(*)Calcula la complejidad del algoritmo "
      ]
    },
    {
      "cell_type": "markdown",
      "metadata": {
        "id": "NhpTh_BPk1ms",
        "colab_type": "text"
      },
      "source": [
        "**Respuesta 7:**\n",
        "\n",
        "Podemos calcular el número de soluciones a generar para tener una probabilidad p de que la solución esté en el conjunto generado\n",
        "\n",
        "    n>log (1−p) / log(1− 1/m)"
      ]
    },
    {
      "cell_type": "markdown",
      "metadata": {
        "id": "3M6QjTsSkmYe",
        "colab_type": "text"
      },
      "source": [
        "**Pregunta 8:**\n",
        "\n",
        "Según el problema (y tenga sentido), diseña un juego de datos de entrada aleatorios"
      ]
    },
    {
      "cell_type": "markdown",
      "metadata": {
        "id": "Jc3_OlyNkvjZ",
        "colab_type": "text"
      },
      "source": [
        "**Respuesta 8:**"
      ]
    },
    {
      "cell_type": "code",
      "metadata": {
        "id": "sJ-N2etjkyWc",
        "colab_type": "code",
        "outputId": "85b19bde-484f-4c17-a273-40a4c9f966e3",
        "colab": {
          "base_uri": "https://localhost:8080/",
          "height": 35
        }
      },
      "source": [
        "valores_objetivo = [(random.randrange(-50,50)) for _ in range(15)]\n",
        "valores_objetivo"
      ],
      "execution_count": 0,
      "outputs": [
        {
          "output_type": "execute_result",
          "data": {
            "text/plain": [
              "[12, -47, -26, -29, 5, -1, 29, -2, 5, -38, -18, 19, -23, 15, 25]"
            ]
          },
          "metadata": {
            "tags": []
          },
          "execution_count": 40
        }
      ]
    },
    {
      "cell_type": "markdown",
      "metadata": {
        "id": "zy5ZROmjlGo1",
        "colab_type": "text"
      },
      "source": [
        "**Pregunta 9:**\n",
        "\n",
        "Aplica el algoritmo al juego de datos generado"
      ]
    },
    {
      "cell_type": "markdown",
      "metadata": {
        "id": "_Cmj-PVylMsa",
        "colab_type": "text"
      },
      "source": [
        "**Respuesta 9:**"
      ]
    },
    {
      "cell_type": "code",
      "metadata": {
        "id": "Jkx8GeiYlUz1",
        "colab_type": "code",
        "outputId": "05661d4b-fde8-4fdc-8ee2-713243a53f96",
        "colab": {
          "base_uri": "https://localhost:8080/",
          "height": 1000
        }
      },
      "source": [
        "it = 5000\n",
        "for i in valores_objetivo:\n",
        "  n = i\n",
        "  print('valor objetivo:', abs(n))\n",
        "  combinar_cifras_operaciones(i)\n",
        "  print('RESULTADO x BUSQUEDA ALEATORIA:')\n",
        "  mejor_solucion, valor_actual, menor_diferencia = FormulaValorDeseado(n, it)\n",
        "  print(mejor_solucion)\n",
        "  print(valor_actual)\n",
        "  print(menor_diferencia)\n",
        "  print('----------------------')\n"
      ],
      "execution_count": 0,
      "outputs": [
        {
          "output_type": "stream",
          "text": [
            "valor objetivo: 12\n",
            "\n",
            "RESULTADO FUERZA BRUTA:\n",
            "1*5+9-4/2 = 12\n",
            "Tiempo de ejecución para algoritmo: 0.0534214973449707\n",
            "RESULTADO x BUSQUEDA ALEATORIA:\n",
            "Tiempo de ejecución para algoritmo: 0.012879610061645508\n",
            "['5', '/', '7', '*', '9', '+', '8', '-', '1']\n",
            "12.0\n",
            "0\n",
            "----------------------\n",
            "valor objetivo: 47\n",
            "\n",
            "RESULTADO FUERZA BRUTA:\n",
            "2+5-6*9/1 = -47\n",
            "Tiempo de ejecución para algoritmo: 0.49514102935791016\n",
            "RESULTADO x BUSQUEDA ALEATORIA:\n",
            "Tiempo de ejecución para algoritmo: 0.09073686599731445\n",
            "['5', '/', '7', '*', '9', '+', '8', '-', '1']\n",
            "-9.88888888888889\n",
            "0.25\n",
            "----------------------\n",
            "valor objetivo: 26\n",
            "\n",
            "RESULTADO FUERZA BRUTA:\n",
            "1+9/3-5*6 = -26\n",
            "Tiempo de ejecución para algoritmo: 0.17957210540771484\n",
            "RESULTADO x BUSQUEDA ALEATORIA:\n",
            "Tiempo de ejecución para algoritmo: 0.001806497573852539\n",
            "['5', '/', '7', '*', '9', '+', '8', '-', '1']\n",
            "-26.0\n",
            "0\n",
            "----------------------\n",
            "valor objetivo: 29\n",
            "\n",
            "RESULTADO FUERZA BRUTA:\n",
            "1+6-8*9/2 = -29\n",
            "Tiempo de ejecución para algoritmo: 0.13821172714233398\n",
            "RESULTADO x BUSQUEDA ALEATORIA:\n",
            "Tiempo de ejecución para algoritmo: 0.018822193145751953\n",
            "['5', '/', '7', '*', '9', '+', '8', '-', '1']\n",
            "-29.0\n",
            "0\n",
            "----------------------\n",
            "valor objetivo: 5\n",
            "\n",
            "RESULTADO FUERZA BRUTA:\n",
            "1*2+5-6/3 = 5\n",
            "Tiempo de ejecución para algoritmo: 0.0025119781494140625\n",
            "RESULTADO x BUSQUEDA ALEATORIA:\n",
            "Tiempo de ejecución para algoritmo: 0.0002040863037109375\n",
            "['5', '/', '7', '*', '9', '+', '8', '-', '1']\n",
            "5.0\n",
            "0\n",
            "----------------------\n",
            "valor objetivo: 1\n",
            "\n",
            "RESULTADO FUERZA BRUTA:\n",
            "1*2+6/3-5 = -1\n",
            "Tiempo de ejecución para algoritmo: 0.0033583641052246094\n",
            "RESULTADO x BUSQUEDA ALEATORIA:\n",
            "Tiempo de ejecución para algoritmo: 0.002669095993041992\n",
            "['5', '/', '7', '*', '9', '+', '8', '-', '1']\n",
            "-1.0\n",
            "0\n",
            "----------------------\n",
            "valor objetivo: 29\n",
            "\n",
            "RESULTADO FUERZA BRUTA:\n",
            "1+5*6-4/2 = 29\n",
            "Tiempo de ejecución para algoritmo: 0.13112425804138184\n",
            "RESULTADO x BUSQUEDA ALEATORIA:\n",
            "Tiempo de ejecución para algoritmo: 0.004401206970214844\n",
            "['5', '/', '7', '*', '9', '+', '8', '-', '1']\n",
            "29.0\n",
            "0\n",
            "----------------------\n",
            "valor objetivo: 2\n",
            "\n",
            "RESULTADO FUERZA BRUTA:\n",
            "1*2+8/4-6 = -2\n",
            "Tiempo de ejecución para algoritmo: 0.0034706592559814453\n",
            "RESULTADO x BUSQUEDA ALEATORIA:\n",
            "Tiempo de ejecución para algoritmo: 0.014750480651855469\n",
            "['5', '/', '7', '*', '9', '+', '8', '-', '1']\n",
            "-2.0\n",
            "0\n",
            "----------------------\n",
            "valor objetivo: 5\n",
            "\n",
            "RESULTADO FUERZA BRUTA:\n",
            "1*2+5-6/3 = 5\n",
            "Tiempo de ejecución para algoritmo: 0.0018138885498046875\n",
            "RESULTADO x BUSQUEDA ALEATORIA:\n",
            "Tiempo de ejecución para algoritmo: 0.002785921096801758\n",
            "['5', '/', '7', '*', '9', '+', '8', '-', '1']\n",
            "5.0\n",
            "0\n",
            "----------------------\n",
            "valor objetivo: 38\n",
            "\n",
            "RESULTADO FUERZA BRUTA:\n",
            "1+9/3-6*7 = -38\n",
            "Tiempo de ejecución para algoritmo: 0.18394780158996582\n",
            "RESULTADO x BUSQUEDA ALEATORIA:\n",
            "Tiempo de ejecución para algoritmo: 0.005605220794677734\n",
            "['5', '/', '7', '*', '9', '+', '8', '-', '1']\n",
            "-38.0\n",
            "0\n",
            "----------------------\n",
            "valor objetivo: 18\n",
            "\n",
            "RESULTADO FUERZA BRUTA:\n",
            "1+2-7*9/3 = -18\n",
            "Tiempo de ejecución para algoritmo: 0.09777569770812988\n",
            "RESULTADO x BUSQUEDA ALEATORIA:\n",
            "Tiempo de ejecución para algoritmo: 0.0028896331787109375\n",
            "['5', '/', '7', '*', '9', '+', '8', '-', '1']\n",
            "-18.0\n",
            "0\n",
            "----------------------\n",
            "valor objetivo: 19\n",
            "\n",
            "RESULTADO FUERZA BRUTA:\n",
            "1+3*7-6/2 = 19\n",
            "Tiempo de ejecución para algoritmo: 0.1099402904510498\n",
            "RESULTADO x BUSQUEDA ALEATORIA:\n",
            "Tiempo de ejecución para algoritmo: 0.006959199905395508\n",
            "['5', '/', '7', '*', '9', '+', '8', '-', '1']\n",
            "19.0\n",
            "0\n",
            "----------------------\n",
            "valor objetivo: 23\n",
            "\n",
            "RESULTADO FUERZA BRUTA:\n",
            "1+3-6*9/2 = -23\n",
            "Tiempo de ejecución para algoritmo: 0.10536503791809082\n",
            "RESULTADO x BUSQUEDA ALEATORIA:\n",
            "Tiempo de ejecución para algoritmo: 0.020018815994262695\n",
            "['5', '/', '7', '*', '9', '+', '8', '-', '1']\n",
            "-23.0\n",
            "0\n",
            "----------------------\n",
            "valor objetivo: 15\n",
            "\n",
            "RESULTADO FUERZA BRUTA:\n",
            "1*8+9-4/2 = 15\n",
            "Tiempo de ejecución para algoritmo: 0.07418513298034668\n",
            "RESULTADO x BUSQUEDA ALEATORIA:\n",
            "Tiempo de ejecución para algoritmo: 0.0013473033905029297\n",
            "['5', '/', '7', '*', '9', '+', '8', '-', '1']\n",
            "15.0\n",
            "0\n",
            "----------------------\n",
            "valor objetivo: 25\n",
            "\n",
            "RESULTADO FUERZA BRUTA:\n",
            "1+3*9-6/2 = 25\n",
            "Tiempo de ejecución para algoritmo: 0.1025705337524414\n",
            "RESULTADO x BUSQUEDA ALEATORIA:\n",
            "Tiempo de ejecución para algoritmo: 0.003938436508178711\n",
            "['5', '/', '7', '*', '9', '+', '8', '-', '1']\n",
            "25.0\n",
            "0\n",
            "----------------------\n"
          ],
          "name": "stdout"
        }
      ]
    },
    {
      "cell_type": "markdown",
      "metadata": {
        "colab_type": "text",
        "id": "eTFWUJQrtGcv"
      },
      "source": [
        "Enumera las referencias que has utilizado(si ha sido necesario) para llevar a cabo el trabajo"
      ]
    },
    {
      "cell_type": "markdown",
      "metadata": {
        "id": "YKQ_mRBttWsP",
        "colab_type": "text"
      },
      "source": [
        "*Respuesta*\n",
        "He usado como referencia el material de clase y algunas busquedas esporádicas en Google documentacion generica de codigo Python."
      ]
    },
    {
      "cell_type": "markdown",
      "metadata": {
        "id": "kAkDPUyRtYyH",
        "colab_type": "text"
      },
      "source": [
        "Describe brevemente las lineas de como crees que es posible avanzar en el estudio del problema. Ten en cuenta incluso posibles variaciones del problema y/o variaciones al alza del tamaño"
      ]
    },
    {
      "cell_type": "markdown",
      "metadata": {
        "id": "IE0uZmo-tZu-",
        "colab_type": "text"
      },
      "source": [
        "Respuesta"
      ]
    }
  ]
}