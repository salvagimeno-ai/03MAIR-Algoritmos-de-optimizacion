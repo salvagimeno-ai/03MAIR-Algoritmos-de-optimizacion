{
  "nbformat": 4,
  "nbformat_minor": 0,
  "metadata": {
    "colab": {
      "name": "Salvador Gimeno - Seminario.ipynb",
      "provenance": [],
      "collapsed_sections": []
    },
    "kernelspec": {
      "name": "python3",
      "display_name": "Python 3"
    }
  },
  "cells": [
    {
      "cell_type": "markdown",
      "metadata": {
        "id": "Kv89c5qB3k5N",
        "colab_type": "text"
      },
      "source": [
        "# Nombre: Salvador Gimeno - Seminario\n",
        "\n",
        "#### Github: https://github.com/salvagimeno-ai/03MAIR-Algoritmos-de-optimizacion/tree/master/SEMINARIOS\n",
        "\n"
      ]
    },
    {
      "cell_type": "markdown",
      "metadata": {
        "id": "7Xe8jPv_jMAT",
        "colab_type": "text"
      },
      "source": [
        "Elección de grupos de población homogéneos\n",
        "Descripción del problema:\n",
        "\n",
        "Una productora ganadera nos encarga la tarea de seleccionar grupos de terneros para aplicar 3 tratamientos diferentes.\n",
        "\n",
        "Para cada uno de los tratamientos debemos seleccionar 3 grupos de terneros que sean lo mas homogéneos posible en peso para que en los resultados del tratamiento influya lo menos posible el peso del animal.\n",
        "\n",
        "Disponemos de una población de N animales entre machos y hembras.\n",
        "\n",
        "Hemos podido averiguar que el peso medio del ternero es 35kg con una desviación estándar de 3.1.\n",
        "\n",
        "Se solicita diseñar un algoritmo para conseguir una agrupación que cumpla de la mejor manera posible las especificaciones de la productora.\n",
        "\n",
        "(*) La respuesta es obligatoria"
      ]
    },
    {
      "cell_type": "code",
      "metadata": {
        "id": "lWzf0tBabUem",
        "colab_type": "code",
        "colab": {}
      },
      "source": [
        "import numpy as np\n",
        "from operator import itemgetter\n",
        "import matplotlib.pyplot as plt\n",
        "import random\n",
        "import pprint\n",
        "import sys\n",
        "import pandas as pd\n",
        "sys.setrecursionlimit(100000)\n",
        "import math"
      ],
      "execution_count": 0,
      "outputs": []
    },
    {
      "cell_type": "markdown",
      "metadata": {
        "id": "TLEFuQGKl0Es",
        "colab_type": "text"
      },
      "source": [
        "## Definimos_parametros"
      ]
    },
    {
      "cell_type": "code",
      "metadata": {
        "id": "TC89nK_9wTM5",
        "colab_type": "code",
        "colab": {}
      },
      "source": [
        "# definimos_parametros:\n",
        "  mu = 35      # media\n",
        "  sigma = 3.1  # standard deviation\n",
        "  N = 200\n",
        "  T = 3        # numero de Tratamientos\n",
        "  G = 3        # numero de grupos por tratamiento \n",
        "  S = 3        # tamaño de los grupos\n",
        "  IT_MAX = 5   # numero de iteraciones maximo\n",
        "  IT_ACT = 1   # iteracion actual (inicializada a valor 1)\n",
        "  Hubo_Reasignacion_Clusters = ''    # variable para identificar si hubo reasignacion de clusters\n",
        "  Clusters_reasignados = 10e10"
      ],
      "execution_count": 0,
      "outputs": []
    },
    {
      "cell_type": "code",
      "metadata": {
        "id": "Ex8btxA3d30H",
        "colab_type": "code",
        "colab": {}
      },
      "source": [
        "# FUNCION PARA Calculo Distancia a los Centroides (distancia euclídea):\n",
        "def euclidean_distance(x, y):   \n",
        "    return np.sqrt(np.sum((x - y) ** 2))"
      ],
      "execution_count": 0,
      "outputs": []
    },
    {
      "cell_type": "markdown",
      "metadata": {
        "id": "RHPvyvJUl7l9",
        "colab_type": "text"
      },
      "source": [
        "## Generamos_universo"
      ]
    },
    {
      "cell_type": "code",
      "metadata": {
        "id": "S7iJwDoGdzyw",
        "colab_type": "code",
        "colab": {
          "base_uri": "https://localhost:8080/",
          "height": 339
        },
        "outputId": "fe7f33af-2e2e-4c4d-f66d-a8cd926ccab7"
      },
      "source": [
        "def generamos_universo(mu, sigma, N):\n",
        "# generamos pesos de forma aleatoria con distribucion normal\n",
        "  W = np.random.normal(mu, sigma, N)\n",
        "  #print('matriz de pesos W : ', W)\n",
        "\n",
        "  # Elegimos de forma aleatoria los centroides de los clusters iniciales \n",
        "  CENTROIDES = np.random.choice(W,3)\n",
        "  C1=CENTROIDES[0] ; #print('C1: ',C1)\n",
        "  C2=CENTROIDES[1] ; #print('C2: ',C2)\n",
        "  C3=CENTROIDES[2] ; #print('C3: ',C3)\n",
        "\n",
        "  # Adicionamos los centroides iniciales a la matriz de Centroides (CEN_df)\n",
        "  CEN_df = []\n",
        "  CEN = [(0,0,C1,C2,C3)]\n",
        "  CEN_df = pd.DataFrame(CEN,columns=['Ejecucion','Nivel', 'C1', 'C2', 'C3' ]) \n",
        "  \n",
        "  # dibujar histograma con la funcion de densidad de probabilidad \n",
        "  import matplotlib.pyplot as plt\n",
        "  count, bins, ignored = plt.hist(W, 30, density=True)\n",
        "  plt.plot(bins, 1/(sigma * np.sqrt(2 * np.pi)) *\n",
        "               np.exp( - (bins - mu)**2 / (2 * sigma**2) ),\n",
        "         linewidth=2, color='r')\n",
        "  print(\"Distribucion de pesos: \")\n",
        "  plt.show()\n",
        "  \n",
        "  #Generacion randomica de sexos\n",
        "  Sex = np.random.randint(0,2,N)     # 0 = Male, 1 = Female\n",
        "  \n",
        "  # Juntamos e Indexamos los datos del array de pesos y de sexo\n",
        "  UNIVERSO = []\n",
        "  UNIVERSO = [(i, Sex[i], W[i], 0, 0, 0 ) for i in range(N)]\n",
        "  #print(UNIVERSO)\n",
        "\n",
        "  # CONVERTIMOS EL DICCIONARIO A DATAFRAME\n",
        "  UNIVERSO_df = pd.DataFrame(UNIVERSO,columns=['Indice', 'Sexo', 'Peso','Distancia', 'Grupo', 'Tratamiento' ]) \n",
        "\n",
        "  return UNIVERSO_df, C1, C2, C3, CEN_df\n",
        "\n",
        "UNIVERSO_df, C1, C2, C3, CEN_df = generamos_universo(mu, sigma, N)\n",
        "print('C1: ',C1); print('C2: ',C2); print('C3: ',C3); #print('CEN_df: ',CEN_df);"
      ],
      "execution_count": 4,
      "outputs": [
        {
          "output_type": "stream",
          "text": [
            "Distribucion de pesos: \n"
          ],
          "name": "stdout"
        },
        {
          "output_type": "display_data",
          "data": {
            "image/png": "[encoded data removed]",
            "text/plain": [
              "<Figure size 432x288 with 1 Axes>"
            ]
          },
          "metadata": {
            "tags": []
          }
        },
        {
          "output_type": "stream",
          "text": [
            "C1:  30.09834869140663\n",
            "C2:  32.20954644578777\n",
            "C3:  40.23234961941446\n"
          ],
          "name": "stdout"
        }
      ]
    },
    {
      "cell_type": "code",
      "metadata": {
        "id": "Z4T4BhtAeIt8",
        "colab_type": "code",
        "colab": {
          "base_uri": "https://localhost:8080/",
          "height": 355
        },
        "outputId": "4ead0429-84f2-47b8-ca5a-d8962dd4831d"
      },
      "source": [
        "UNIVERSO_df.sample(10)"
      ],
      "execution_count": 5,
      "outputs": [
        {
          "output_type": "execute_result",
          "data": {
            "text/html": [
              "<div>\n",
              "<style scoped>\n",
              "    .dataframe tbody tr th:only-of-type {\n",
              "        vertical-align: middle;\n",
              "    }\n",
              "\n",
              "    .dataframe tbody tr th {\n",
              "        vertical-align: top;\n",
              "    }\n",
              "\n",
              "    .dataframe thead th {\n",
              "        text-align: right;\n",
              "    }\n",
              "</style>\n",
              "<table border=\"1\" class=\"dataframe\">\n",
              "  <thead>\n",
              "    <tr style=\"text-align: right;\">\n",
              "      <th></th>\n",
              "      <th>Indice</th>\n",
              "      <th>Sexo</th>\n",
              "      <th>Peso</th>\n",
              "      <th>Distancia</th>\n",
              "      <th>Grupo</th>\n",
              "      <th>Tratamiento</th>\n",
              "    </tr>\n",
              "  </thead>\n",
              "  <tbody>\n",
              "    <tr>\n",
              "      <th>100</th>\n",
              "      <td>100</td>\n",
              "      <td>1</td>\n",
              "      <td>34.932819</td>\n",
              "      <td>0</td>\n",
              "      <td>0</td>\n",
              "      <td>0</td>\n",
              "    </tr>\n",
              "    <tr>\n",
              "      <th>12</th>\n",
              "      <td>12</td>\n",
              "      <td>1</td>\n",
              "      <td>32.721683</td>\n",
              "      <td>0</td>\n",
              "      <td>0</td>\n",
              "      <td>0</td>\n",
              "    </tr>\n",
              "    <tr>\n",
              "      <th>6</th>\n",
              "      <td>6</td>\n",
              "      <td>0</td>\n",
              "      <td>41.084683</td>\n",
              "      <td>0</td>\n",
              "      <td>0</td>\n",
              "      <td>0</td>\n",
              "    </tr>\n",
              "    <tr>\n",
              "      <th>14</th>\n",
              "      <td>14</td>\n",
              "      <td>0</td>\n",
              "      <td>35.963867</td>\n",
              "      <td>0</td>\n",
              "      <td>0</td>\n",
              "      <td>0</td>\n",
              "    </tr>\n",
              "    <tr>\n",
              "      <th>149</th>\n",
              "      <td>149</td>\n",
              "      <td>1</td>\n",
              "      <td>40.661470</td>\n",
              "      <td>0</td>\n",
              "      <td>0</td>\n",
              "      <td>0</td>\n",
              "    </tr>\n",
              "    <tr>\n",
              "      <th>107</th>\n",
              "      <td>107</td>\n",
              "      <td>0</td>\n",
              "      <td>35.715244</td>\n",
              "      <td>0</td>\n",
              "      <td>0</td>\n",
              "      <td>0</td>\n",
              "    </tr>\n",
              "    <tr>\n",
              "      <th>79</th>\n",
              "      <td>79</td>\n",
              "      <td>1</td>\n",
              "      <td>28.584959</td>\n",
              "      <td>0</td>\n",
              "      <td>0</td>\n",
              "      <td>0</td>\n",
              "    </tr>\n",
              "    <tr>\n",
              "      <th>87</th>\n",
              "      <td>87</td>\n",
              "      <td>0</td>\n",
              "      <td>33.424263</td>\n",
              "      <td>0</td>\n",
              "      <td>0</td>\n",
              "      <td>0</td>\n",
              "    </tr>\n",
              "    <tr>\n",
              "      <th>156</th>\n",
              "      <td>156</td>\n",
              "      <td>1</td>\n",
              "      <td>32.867643</td>\n",
              "      <td>0</td>\n",
              "      <td>0</td>\n",
              "      <td>0</td>\n",
              "    </tr>\n",
              "    <tr>\n",
              "      <th>26</th>\n",
              "      <td>26</td>\n",
              "      <td>1</td>\n",
              "      <td>32.110504</td>\n",
              "      <td>0</td>\n",
              "      <td>0</td>\n",
              "      <td>0</td>\n",
              "    </tr>\n",
              "  </tbody>\n",
              "</table>\n",
              "</div>"
            ],
            "text/plain": [
              "     Indice  Sexo       Peso  Distancia  Grupo  Tratamiento\n",
              "100     100     1  34.932819          0      0            0\n",
              "12       12     1  32.721683          0      0            0\n",
              "6         6     0  41.084683          0      0            0\n",
              "14       14     0  35.963867          0      0            0\n",
              "149     149     1  40.661470          0      0            0\n",
              "107     107     0  35.715244          0      0            0\n",
              "79       79     1  28.584959          0      0            0\n",
              "87       87     0  33.424263          0      0            0\n",
              "156     156     1  32.867643          0      0            0\n",
              "26       26     1  32.110504          0      0            0"
            ]
          },
          "metadata": {
            "tags": []
          },
          "execution_count": 5
        }
      ]
    },
    {
      "cell_type": "markdown",
      "metadata": {
        "id": "Ahbayz7zImf_",
        "colab_type": "text"
      },
      "source": [
        "## CONTEXTO DEL PROBLEMA"
      ]
    },
    {
      "cell_type": "markdown",
      "metadata": {
        "colab_type": "text",
        "id": "_SsNms3zatSd"
      },
      "source": [
        "**El problema exige**: a partir de una poblacion de N animales, generar 3 grupos de animales que sean homogeneos en cuanto a peso, para cada uno de los 3 tratamientos diferentes que se van a experimentar. Se deberá “Homogeneizar” dentro de los grupos y entre grupos.\n",
        "\n",
        "**Por tanto tendremos que generar**:\n",
        "- Primero: 3 grupos dentro del Universo que sean lo mas homogéneos dentro de si mismos y heterogéneos entre sí - uno para cada tratamiento.\n",
        "- Segundo: Dentro del cluster de cada tratamiento, generaremos 3 grupos que sean homogéneos entre sí."
      ]
    },
    {
      "cell_type": "markdown",
      "metadata": {
        "id": "uzb3q6nIRRXv",
        "colab_type": "text"
      },
      "source": [
        "## COMO LO VAMOS A RESOLVER:"
      ]
    },
    {
      "cell_type": "markdown",
      "metadata": {
        "id": "g4CK7A0RImo0",
        "colab_type": "text"
      },
      "source": [
        "La **clusterizacion** es una técnica comunmente usada para clasificar objetos formando grupos/conglomerados (clúster) que sean lo más homogéneos posible dentro de si mismos y heterogéneos entre sí.\n",
        "Este agrupamiento se basa en la idea de distancia o similitud entre las observaciones y la obtención de dichos clusters depende del criterio o distancia considerados.\n",
        "\n",
        "En este problema la clusterizacion:\n",
        "- una única variable para la definicion de grupos homogéneos: el peso\n",
        "- definiremos 3 clusters - uno para cada tratamiento \n",
        "- nos falta definir la medida de proximidad o de distancia los animales, para poder cuantificar el grado de similaridad entre ellos.\n",
        "\n",
        "#### METODOS DE CLASIFICACION:\n",
        "Se distinguen dos grandes categorías de métodos clusters: Métodos jerárquicos y Métodos no-jerárquicos\n",
        "\n",
        "*   Métodos Jerárquicos: En cada paso del algoritmo sólo un objeto cambia de grupo y los grupos están anidados en los de pasos anteriores. Si un objeto ha sido asignado a un grupo ya no cambia más de grupo.  La clasificación resultante tiene un número creciente de clases anidadas.\n",
        "\n",
        "*   Métodos No jerárquico o Repartición: Comienzan con una solución inicial, un número de grupos g fijado de antemano y agrupa los objetos para obtener los g grupos.\n",
        "\n",
        "#### PROCESO TÍPICO PARA LA DEFINICION DE GRUPOS HOMOGENEOS\n",
        "*   **Paso 1: Selección de variables** - en este caso está pre-determinado que la variable de clusterizacion será el PESO.\n",
        "*   **Paso 2: Detección de valores atípicos**. El análisis clúster es muy sensible a la presencia de objetos muy diferentes del resto (valores atípicos) - como estamos en una distribucion normal podria ser eliminadas las colas de la distribución, y trabajar solamente con la parte central: delimitando -Desv.Estandar / +Desv.Estandar desde la media, lo cual representará al 68,27% de los datos.\n",
        "*   **Paso 3. Seleccionar la forma de medir la distancia/disimilitud entre objetos** dependiendo de si los datos con cuantitativos o cualitativos\n",
        "*   **Paso 4: Estandarización de los datos** (Decidir si se trabaja con los datos según se miden o estandarizados). El orden de las similitudes puede cambiar bastante con sólo un cambio de escala de una de las variables por lo que sólo se realizará una tipificación cuando resulte necesario.\n",
        "*   Paso 5: Obtención de los clusters y valoración de la clasificación realizada\n",
        "\n",
        "bibliografia utilizada: http://wpd.ugr.es/~bioestad/guia-spss/practica-8/ \n",
        "\n",
        "\n"
      ]
    },
    {
      "cell_type": "markdown",
      "metadata": {
        "id": "FF8zKuIxRRS5",
        "colab_type": "text"
      },
      "source": [
        "### METODO DE CLUSTERIZACION SELECCIONADO PARA EL EJERCICIO:\n",
        "**Análisis clúster de k-medias**. Es un método de clasificación No Jerárquico (Repartición). El número de clusters que se van a formar es fijado de antemano (requiere conocer el número de clusters a priori) y se agrupan los objetos para obtener esos grupos. Comienzan con una solución inicial y los objetos se reagrupan de acuerdo con algún criterio de optimalidad. El clúster no jerárquico sólo puede ser aplicado a variables cuantitativas. Este procedimiento  puede analizar archivos de datos grandes.\n",
        "\n",
        "*   Paso 1. Se toman al azar k clusters iniciales y se calculan los centroides (medias) de los clusters\n",
        "*   Paso 2. Se calcula la distancia euclídea de cada observación a los centroides de los clusters y se reasigna cada observación al grupo más próximo formando los nuevos clusters que se toman en lugar de los primeros como una mejor aproximación de los mismos\n",
        "*   Paso 3. Se calculan los centroides de los nuevos clusters\n",
        "*   Paso 4. Se repiten los pasos 2) y 3) hasta que se satisfaga un criterio de parada como, por ejemplo, no se produzca ninguna reasignación, es decir, los clusters obtenidos en dos iteraciones consecutivas son los mismos.\n",
        "\n",
        "Bibliografia utilizada: http://wpd.ugr.es/~bioestad/guia-spss/practica-8/ \n"
      ]
    },
    {
      "cell_type": "markdown",
      "metadata": {
        "id": "i_MkhVrbP-uz",
        "colab_type": "text"
      },
      "source": [
        "### MEDIDA DE HOMOGENEIDAD SELECCIONADA:\n",
        "Usaremos la distancia euclídea de cada observación a los centroides de los clusters\n"
      ]
    },
    {
      "cell_type": "markdown",
      "metadata": {
        "id": "UDG8raTMd0T4",
        "colab_type": "text"
      },
      "source": [
        "# PREGUNTAS DEL EJERCICIO:"
      ]
    },
    {
      "cell_type": "markdown",
      "metadata": {
        "id": "NHBKk64_Hocr",
        "colab_type": "text"
      },
      "source": [
        "## Pregunta: ¿Cuantas posibilidades hay sin tener en cuenta las restricciones?"
      ]
    },
    {
      "cell_type": "markdown",
      "metadata": {
        "id": "jemxoiJ-e-ui",
        "colab_type": "text"
      },
      "source": [
        "Numero de combinaciones: Variaciones sin repetición de N elementos de n en n\n",
        "\n",
        "Fórmula : V N,n = N.(N-1).(N-2)...(N-n+1)\n",
        "Tenemos que generar 3 grupos x 3 tratamientos = 9 grupos x 2 sexos\n",
        "\n",
        "Dado que las combinaciones de cada sexo son independientes entre si, el calculo total de combinaciones será igual al numero de combinaciones de los machos + numero combinaciones de las hembras.\n",
        "\n",
        "Siendo, N = total de terneros M = total de machos H = total de hembras\n",
        "\n",
        "se cumple que N = M + H\n",
        "\n",
        "En este caso, el numero total de variaciones, siendo n = 9, sería:\n",
        "\n",
        "V = (M.(M-1).(M-2)...(M-10)) + (H.(H-1).(H-2)...(H-10))"
      ]
    },
    {
      "cell_type": "markdown",
      "metadata": {
        "id": "oDxTyMD4fDhb",
        "colab_type": "text"
      },
      "source": [
        "#### ¿Cuantas posibilidades hay teniendo en cuenta todas las restricciones.¶\n",
        "\n",
        "Las unicas restricciones mencionadas en el enunciado del problema son que el peso medio del ternero es 35kg con una desviación estándar de 3.1\n",
        "\n",
        "NO entiendo como esto podria afectar al numero de combinaciones posibles."
      ]
    },
    {
      "cell_type": "markdown",
      "metadata": {
        "id": "UvFpP7PGHolq",
        "colab_type": "text"
      },
      "source": [
        "## 1) Pregunta: (*) ¿Cual es la estructura de datos que mejor se adapta al problema? Argumenta la respuesta"
      ]
    },
    {
      "cell_type": "markdown",
      "metadata": {
        "id": "ZFbmqP8EfAb5",
        "colab_type": "text"
      },
      "source": [
        "Datos de Entrada/ datos generados:\n",
        "    -ID/Sexo/Peso\n",
        "\n",
        "Datos de Salida:\n",
        "    - Indice\tSexo\tPeso\tDistancia\tGrupo\tTratamiento\n",
        "    \n"
      ]
    },
    {
      "cell_type": "markdown",
      "metadata": {
        "id": "rKLNXXpxIJty",
        "colab_type": "text"
      },
      "source": [
        "## 2) Pregunta: ¿Cual es la función objetivo?"
      ]
    },
    {
      "cell_type": "code",
      "metadata": {
        "id": "Mkfc-hMOcVbo",
        "colab_type": "code",
        "colab": {}
      },
      "source": [
        "Minimizar la Dispersion IntraCluster"
      ],
      "execution_count": 0,
      "outputs": []
    },
    {
      "cell_type": "markdown",
      "metadata": {
        "id": "jNR2DgFsINu1",
        "colab_type": "text"
      },
      "source": [
        "## 3) Pregunta: ¿Es un problema de maximización o minimización?\n"
      ]
    },
    {
      "cell_type": "markdown",
      "metadata": {
        "id": "DLG1xUIFsRUd",
        "colab_type": "text"
      },
      "source": [
        "Maximizar la Homogeneidad en cada Tratamiento, y maximizar la homogeneidad entre los grupos de dicho tratamiento.\n",
        "\n",
        "Podriamos hablar de Minimizar la Dispersion IntraCluster al mismo tiempo que Maximizamos la Dispersion InterClusters."
      ]
    },
    {
      "cell_type": "markdown",
      "metadata": {
        "id": "b-hZplQwISKC",
        "colab_type": "text"
      },
      "source": [
        "## 4) Pregunta: Diseña un algoritmo para resolver el problema por fuerza bruta"
      ]
    },
    {
      "cell_type": "markdown",
      "metadata": {
        "id": "x2OPamLfsBrs",
        "colab_type": "text"
      },
      "source": [
        "1) Hariamos una iteracion por todas las permutaciones de los valores del universo agrupadas de 3 en 3, y eligiriamos aquella combinacion donde se cumpliese que: max(homogeneidad en los 3 grupos en si mismos) \n",
        "\n",
        "2) Para cada uno de eses grupos (equivalentes a cada tratamiento) haremos una iteracion por todas las permutaciones de los valores de ese grupo (tratamiento) agrupadas de 3 en 3, y eligiriamos aquella combinacion donde se cumpliese que: max(homogeneidad en los 3 grupos en si mismos)\n"
      ]
    },
    {
      "cell_type": "markdown",
      "metadata": {
        "id": "xwRt9uG1slG0",
        "colab_type": "text"
      },
      "source": [
        "## 5) Pregunta: Diseña un algoritmo que mejore la complejidad del algortimo por fuerza bruta. Argumenta porque crees que mejora el algoritmo por fuerza bruta"
      ]
    },
    {
      "cell_type": "markdown",
      "metadata": {
        "id": "rBYzRgf-Y9sE",
        "colab_type": "text"
      },
      "source": [
        "Paso 1. Se toman al azar k clusters iniciales y se calculan los centroides (medias) de los clusters\n",
        "\n",
        "Paso 2. Se calcula la distancia euclídea de cada observación a los centroides de los clusters y se reasigna cada observación al grupo más próximo formando los nuevos clusters que se toman en lugar de los primeros como una mejor aproximación de los mismos\n",
        "\n",
        "Paso 3. Se calculan los centroides de los nuevos clusters\n",
        "\n",
        "Paso 4. Se repiten los pasos 2) y 3) hasta que se satisfaga un criterio de parada como, por ejemplo, no se produzca ninguna reasignación, es decir, los clusters obtenidos en dos iteraciones consecutivas son los mismos"
      ]
    },
    {
      "cell_type": "markdown",
      "metadata": {
        "id": "1v7aasCwwQ2S",
        "colab_type": "text"
      },
      "source": [
        "### DEFINIR 3 CLUSTERS - 1 x TRATAMIENTO"
      ]
    },
    {
      "cell_type": "code",
      "metadata": {
        "id": "eeeT5URheltk",
        "colab_type": "code",
        "colab": {
          "base_uri": "https://localhost:8080/",
          "height": 1161
        },
        "outputId": "7c148998-5453-417d-cfc0-a710942c07f4"
      },
      "source": [
        "# ASIGNACION DE CLUSTERS\n",
        "Clusters_reasignados = ''\n",
        "numero_iteraciones = 0\n",
        "while Clusters_reasignados != 0:\n",
        "  Clusters_reasignados = 0\n",
        "  \n",
        "  while numero_iteraciones <= IT_MAX:  # iteramos hasta un maximo de iteraciones definido en los parametros globales 'IT_MAX'\n",
        "\n",
        "    # CALC.DISTANCIA EUCLIDEA y ASIGNACION DE CLUSTER\n",
        "    for i in UNIVERSO_df.itertuples():\n",
        "      Hubo_Reasignacion_Clusters = ''\n",
        "\n",
        "      # calculamos la distancia euclidea con cada centroide\n",
        "      A = euclidean_distance(i.Peso,C1)   #; print('A = ', A)\n",
        "      B = euclidean_distance(i.Peso,C2)   #; print('B = ', B)\n",
        "      C = euclidean_distance(i.Peso,C3)   #; print('C = ', C)\n",
        "\n",
        "      # determinamos el cluster_mas_cercano a partir de la menor distancia\n",
        "      cluster = ''\n",
        "      if(A < B and A < C):\n",
        "        distancia = A\n",
        "        cluster = 0\n",
        "      else:\n",
        "        if(B < A and B < C):\n",
        "          distancia = B\n",
        "          cluster = 1\n",
        "        else:\n",
        "          distancia = C\n",
        "          cluster = 2\n",
        "\n",
        "      if i.Grupo != cluster:\n",
        "        Clusters_reasignados += 1\n",
        "        #print('indice: ', i.Indice) \n",
        "        #print('Grupo: ', i.Grupo) \n",
        "        #print('Cluster: ', cluster)\n",
        "        #Hubo_Reasignacion_Clusters = 'True'\n",
        "        #print(Hubo_Reasignacion_Clusters)\n",
        "        #print('-----------')\n",
        "\n",
        "      # Actualizamos el df de salida (UNIVERSO_df)\n",
        "      #UNIVERSO.at[i.Index, 'Indice'] = i\n",
        "      #UNIVERSO.at[i.Index, 'Peso'] = i.Peso\n",
        "      UNIVERSO_df.at[i.Index, 'Distancia'] = distancia\n",
        "      UNIVERSO_df.at[i.Index, 'Grupo'] = cluster\n",
        "      UNIVERSO_df.at[i.Index, 'Tratamiento'] = cluster\n",
        "\n",
        "    # Recalculamos los centroides de los nuevos clusters generados\n",
        "    result_clusters = UNIVERSO_df.groupby('Grupo').mean()\n",
        "    C1 = result_clusters['Peso'][0]\n",
        "    C2 = result_clusters['Peso'][1]\n",
        "    C3 = result_clusters['Peso'][2]\n",
        "\n",
        "    numero_iteraciones += 1\n",
        "\n",
        "  \n",
        "  #return UNIVERSO_df, Clusters_reasignados\n",
        "\n",
        "print('UNIVERSO_df ',UNIVERSO_df) \n",
        "print('Clusters_reasignados ', Clusters_reasignados) \n",
        "print('numero_iteraciones ', numero_iteraciones) "
      ],
      "execution_count": 6,
      "outputs": [
        {
          "output_type": "stream",
          "text": [
            "UNIVERSO_df       Indice  Sexo       Peso  Distancia  Grupo  Tratamiento\n",
            "0         0     1  37.061239          1      2            2\n",
            "1         1     1  32.692956          1      0            0\n",
            "2         2     0  29.879568          1      0            0\n",
            "3         3     1  36.089138          1      1            1\n",
            "4         4     1  33.849535          0      1            1\n",
            "5         5     1  37.268650          0      2            2\n",
            "6         6     0  41.084683          2      2            2\n",
            "7         7     0  38.274888          0      2            2\n",
            "8         8     0  34.733522          0      1            1\n",
            "9         9     1  38.375238          0      2            2\n",
            "10       10     1  35.484899          1      1            1\n",
            "11       11     1  35.903342          1      1            1\n",
            "12       12     1  32.721683          1      0            0\n",
            "13       13     0  43.353185          5      2            2\n",
            "14       14     0  35.963867          1      1            1\n",
            "15       15     1  37.890047          0      2            2\n",
            "16       16     1  29.261356          1      0            0\n",
            "17       17     0  36.528329          1      2            2\n",
            "18       18     0  39.993244          1      2            2\n",
            "19       19     0  30.377685          0      0            0\n",
            "20       20     1  32.715305          1      0            0\n",
            "21       21     1  35.974715          1      1            1\n",
            "22       22     0  32.675690          1      0            0\n",
            "23       23     0  36.810585          1      2            2\n",
            "24       24     0  38.166108          0      2            2\n",
            "25       25     0  32.452651          1      0            0\n",
            "26       26     1  32.110504          0      0            0\n",
            "27       27     0  38.244272          0      2            2\n",
            "28       28     1  33.637616          0      1            1\n",
            "29       29     0  36.067507          1      1            1\n",
            "..      ...   ...        ...        ...    ...          ...\n",
            "170     170     0  36.637424          1      2            2\n",
            "171     171     0  39.456437          1      2            2\n",
            "172     172     0  32.192746          1      0            0\n",
            "173     173     0  39.293869          1      2            2\n",
            "174     174     0  32.764773          1      1            1\n",
            "175     175     0  35.307139          0      1            1\n",
            "176     176     1  34.250415          0      1            1\n",
            "177     177     1  34.517543          0      1            1\n",
            "178     178     0  34.844817          0      1            1\n",
            "179     179     1  32.323574          1      0            0\n",
            "180     180     0  32.720343          1      0            0\n",
            "181     181     0  36.119665          1      1            1\n",
            "182     182     0  35.478880          1      1            1\n",
            "183     183     0  36.269713          1      2            2\n",
            "184     184     1  33.691211          0      1            1\n",
            "185     185     0  35.299565          0      1            1\n",
            "186     186     1  38.352455          0      2            2\n",
            "187     187     0  37.567648          0      2            2\n",
            "188     188     0  32.320631          1      0            0\n",
            "189     189     1  39.322141          1      2            2\n",
            "190     190     0  36.780188          1      2            2\n",
            "191     191     0  39.152521          1      2            2\n",
            "192     192     1  37.745228          0      2            2\n",
            "193     193     1  30.559658          0      0            0\n",
            "194     194     1  33.106337          1      1            1\n",
            "195     195     0  29.687830          1      0            0\n",
            "196     196     1  38.223821          0      2            2\n",
            "197     197     0  30.926215          0      0            0\n",
            "198     198     1  32.976361          1      1            1\n",
            "199     199     0  32.806948          1      1            1\n",
            "\n",
            "[200 rows x 6 columns]\n",
            "Clusters_reasignados  0\n",
            "numero_iteraciones  6\n"
          ],
          "name": "stdout"
        }
      ]
    },
    {
      "cell_type": "markdown",
      "metadata": {
        "id": "LdWmBSN7fxVe",
        "colab_type": "text"
      },
      "source": [
        "## NOTAS: POR FALTA DE TIEMPO NO HE CONSEGUIDO TERMINAR ALGUNAS COSAS;\n",
        "## FALTARIA:\n",
        "\n",
        "1) Haber discriminado en el código para poder hacer una ejecucion para Machos y Hembras por separado\n",
        "\n",
        "2) Crear grupos homogeneos entre la poblacion de cada tratamiento\n",
        "\n",
        "\n"
      ]
    }
  ]
}