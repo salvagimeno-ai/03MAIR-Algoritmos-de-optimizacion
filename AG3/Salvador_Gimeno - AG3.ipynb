{
 "cells": [
  {
   "cell_type": "markdown",
   "metadata": {
    "colab_type": "text",
    "id": "wh48FsHlNtgB"
   },
   "source": [
    "# Nombre: Salvador Gimeno\n",
    "\n",
    "### Actividad Guiada 3 - AG3\n",
    "\n",
    "### Github: https://github.com/salvagimeno-ai/03MAIR-Algoritmos-de-optimizacion/tree/master/AG3 "
   ]
  },
  {
   "cell_type": "code",
   "execution_count": 1,
   "metadata": {
    "colab": {
     "base_uri": "https://localhost:8080/",
     "height": 557
    },
    "colab_type": "code",
    "id": "7_KQkCm7NrpQ",
    "outputId": "9e669403-470d-4506-b72b-7214296fd257"
   },
   "outputs": [
    {
     "name": "stdout",
     "output_type": "stream",
     "text": [
      "Collecting request\n",
      "  Downloading https://files.pythonhosted.org/packages/f1/27/7cbde262d854aedf217061a97020d66a63163c5c04e0ec02ff98c5d8f44e/request-2019.4.13.tar.gz\n",
      "Collecting get (from request)\n",
      "  Downloading https://files.pythonhosted.org/packages/3f/ef/bb46f77f7220ac1b7edba0c76d810c89fddb24ddd8c08f337b9b4a618db7/get-2019.4.13.tar.gz\n",
      "Collecting post (from request)\n",
      "  Downloading https://files.pythonhosted.org/packages/0f/05/bd79da5849ea6a92485ed7029ef97b1b75e55c26bc0ed3a7ec769af666f3/post-2019.4.13.tar.gz\n",
      "Requirement already satisfied: setuptools in /usr/local/lib/python3.6/dist-packages (from request) (41.2.0)\n",
      "Collecting query_string (from get->request)\n",
      "  Downloading https://files.pythonhosted.org/packages/12/3c/412a45daf5bea9b1d06d7de41787ec4168001dfa418db7ec8723356b119f/query-string-2019.4.13.tar.gz\n",
      "Collecting public (from query_string->get->request)\n",
      "  Downloading https://files.pythonhosted.org/packages/54/4d/b40004cc6c07665e48af22cfe1e631f219bf4282e15fa76a5b6364f6885c/public-2019.4.13.tar.gz\n",
      "Building wheels for collected packages: request, get, post, query-string, public\n",
      "  Building wheel for request (setup.py) ... \u001b[?25l\u001b[?25hdone\n",
      "  Created wheel for request: filename=request-2019.4.13-cp36-none-any.whl size=1676 sha256=8adad03f1bde13fb6d42ae88c18cd930ef26ca161c474eff03cfc1c1d9189991\n",
      "  Stored in directory: /root/.cache/pip/wheels/30/84/5f/484cfba678967ef58c16fce6890925d5c7172622f20111fbfd\n",
      "  Building wheel for get (setup.py) ... \u001b[?25l\u001b[?25hdone\n",
      "  Created wheel for get: filename=get-2019.4.13-cp36-none-any.whl size=1692 sha256=4d191870beaf5f864f43498d3a07b99ce391b94b4100a01f864a1bcbb7b54158\n",
      "  Stored in directory: /root/.cache/pip/wheels/c1/e3/c1/d02c8c58538853e4c9b78cadb74f6d5c5c370b48a69a7271aa\n",
      "  Building wheel for post (setup.py) ... \u001b[?25l\u001b[?25hdone\n",
      "  Created wheel for post: filename=post-2019.4.13-cp36-none-any.whl size=1661 sha256=13692bf27958e7286d4f08f2b58768c10c57d6541e2599c6bcfc493fc730321d\n",
      "  Stored in directory: /root/.cache/pip/wheels/c3/c3/24/b5c132b537ab380c02d69e6bd4dec1f5db56b5fe19030473d7\n",
      "  Building wheel for query-string (setup.py) ... \u001b[?25l\u001b[?25hdone\n",
      "  Created wheel for query-string: filename=query_string-2019.4.13-cp36-none-any.whl size=2049 sha256=7eaf477c7c5bc133e344267e566457914b7897e3f4217dcf56b47e09f45974d0\n",
      "  Stored in directory: /root/.cache/pip/wheels/d6/a4/78/01b20a9dc224dcc009fab669f7f27b943b8889c5150bd68d8a\n",
      "  Building wheel for public (setup.py) ... \u001b[?25l\u001b[?25hdone\n",
      "  Created wheel for public: filename=public-2019.4.13-cp36-none-any.whl size=2536 sha256=cf73f9e5f7d26e750c98eab1eeda391da75eaf37854f0d6f817638c3312ca098\n",
      "  Stored in directory: /root/.cache/pip/wheels/23/7c/6e/f5b4e09d6596c8b8802b347e48f149031e2363368048f1347a\n",
      "Successfully built request get post query-string public\n",
      "Installing collected packages: public, query-string, get, post, request\n",
      "Successfully installed get-2019.4.13 post-2019.4.13 public-2019.4.13 query-string-2019.4.13 request-2019.4.13\n"
     ]
    }
   ],
   "source": [
    "!pip install request"
   ]
  },
  {
   "cell_type": "code",
   "execution_count": 2,
   "metadata": {
    "colab": {
     "base_uri": "https://localhost:8080/",
     "height": 349
    },
    "colab_type": "code",
    "id": "GyxNE-EzOBl-",
    "outputId": "bbddaf99-e1cf-49e5-90ea-59f44ec448de"
   },
   "outputs": [
    {
     "name": "stdout",
     "output_type": "stream",
     "text": [
      "Collecting tsplib95\n",
      "  Downloading https://files.pythonhosted.org/packages/90/9f/5fbf6118d00719cc4688b175a04da09b89c3780db6b0c55bc646a20a6a07/tsplib95-0.3.3-py2.py3-none-any.whl\n",
      "Requirement already satisfied: Click>=6.0 in /usr/local/lib/python3.6/dist-packages (from tsplib95) (7.0)\n",
      "Collecting networkx==2.1 (from tsplib95)\n",
      "\u001b[?25l  Downloading https://files.pythonhosted.org/packages/11/42/f951cc6838a4dff6ce57211c4d7f8444809ccbe2134179950301e5c4c83c/networkx-2.1.zip (1.6MB)\n",
      "\u001b[K     |████████████████████████████████| 1.6MB 4.1MB/s \n",
      "\u001b[?25hRequirement already satisfied: decorator>=4.1.0 in /usr/local/lib/python3.6/dist-packages (from networkx==2.1->tsplib95) (4.4.0)\n",
      "Building wheels for collected packages: networkx\n",
      "  Building wheel for networkx (setup.py) ... \u001b[?25l\u001b[?25hdone\n",
      "  Created wheel for networkx: filename=networkx-2.1-py2.py3-none-any.whl size=1447766 sha256=18341a89e5607f645fe5c57822d5e6a9df7241777cda393acc3125306486df65\n",
      "  Stored in directory: /root/.cache/pip/wheels/44/c0/34/6f98693a554301bdb405f8d65d95bbcd3e50180cbfdd98a94e\n",
      "Successfully built networkx\n",
      "\u001b[31mERROR: albumentations 0.1.12 has requirement imgaug<0.2.7,>=0.2.5, but you'll have imgaug 0.2.9 which is incompatible.\u001b[0m\n",
      "Installing collected packages: networkx, tsplib95\n",
      "  Found existing installation: networkx 2.3\n",
      "    Uninstalling networkx-2.3:\n",
      "      Successfully uninstalled networkx-2.3\n",
      "Successfully installed networkx-2.1 tsplib95-0.3.3\n"
     ]
    }
   ],
   "source": [
    "!pip install tsplib95"
   ]
  },
  {
   "cell_type": "code",
   "execution_count": 3,
   "metadata": {
    "colab": {
     "base_uri": "https://localhost:8080/",
     "height": 35
    },
    "colab_type": "code",
    "id": "rGhQAID9OBwq",
    "outputId": "568acd55-30f8-4427-8b2c-33f49c5700b9"
   },
   "outputs": [
    {
     "data": {
      "text/plain": [
       "('swiss42.tsp', <http.client.HTTPMessage at 0x7f7cff55a908>)"
      ]
     },
     "execution_count": 3,
     "metadata": {
      "tags": []
     },
     "output_type": "execute_result"
    }
   ],
   "source": [
    "import urllib.request\n",
    "file='swiss42.tsp'\n",
    "urllib.request.urlretrieve('http://elib.zib.de/pub/mp-testdata/tsp/tsplib/tsp/swiss42.tsp', file) "
   ]
  },
  {
   "cell_type": "code",
   "execution_count": 0,
   "metadata": {
    "colab": {},
    "colab_type": "code",
    "id": "g66AcD0XOBz_"
   },
   "outputs": [],
   "source": [
    "import random\n",
    "from math import e\n",
    "import tsplib95"
   ]
  },
  {
   "cell_type": "code",
   "execution_count": 5,
   "metadata": {
    "colab": {
     "base_uri": "https://localhost:8080/",
     "height": 35
    },
    "colab_type": "code",
    "id": "WiiNY6lHOB2Y",
    "outputId": "0b40f839-1673-4abf-e938-da887d774de3"
   },
   "outputs": [
    {
     "data": {
      "text/plain": [
       "30"
      ]
     },
     "execution_count": 5,
     "metadata": {
      "tags": []
     },
     "output_type": "execute_result"
    }
   ],
   "source": [
    "#definimos la variable problema\n",
    "problem = tsplib95.load_problem(file)\n",
    "\n",
    "Nodos = list(problem.get_nodes())\n",
    "\n",
    "#Obtener nodos \n",
    "list(problem.get_nodes())  # es un objeto iterable - ls podremos aplicar la funcion list\n",
    "#Obtener aristas\n",
    "list(problem.get_edges())\n",
    "\n",
    "problem.wfunc(0,2)   # nos devuelve la distancia entre dos puntos\n"
   ]
  },
  {
   "cell_type": "code",
   "execution_count": 6,
   "metadata": {
    "colab": {
     "base_uri": "https://localhost:8080/",
     "height": 35
    },
    "colab_type": "code",
    "id": "KEeV74A7Rc--",
    "outputId": "32f26f38-fd95-489d-a19f-8d53e66a9b83"
   },
   "outputs": [
    {
     "data": {
      "text/plain": [
       "15"
      ]
     },
     "execution_count": 6,
     "metadata": {
      "tags": []
     },
     "output_type": "execute_result"
    }
   ],
   "source": [
    "def distancia(a,b,problem):\n",
    "  return problem.wfunc(a,b)\n",
    "distancia (0,1,problem) "
   ]
  },
  {
   "cell_type": "code",
   "execution_count": 7,
   "metadata": {
    "colab": {
     "base_uri": "https://localhost:8080/",
     "height": 55
    },
    "colab_type": "code",
    "id": "Y0UwZkIKRdO2",
    "outputId": "396928a6-333f-4ea8-b118-f60860533826"
   },
   "outputs": [
    {
     "name": "stdout",
     "output_type": "stream",
     "text": [
      "4714 [0, 32, 18, 2, 22, 3, 38, 21, 35, 7, 37, 19, 15, 4, 26, 17, 41, 16, 8, 40, 23, 27, 12, 31, 36, 11, 25, 9, 5, 29, 6, 20, 28, 24, 30, 14, 34, 13, 33, 1, 39, 10]\n"
     ]
    }
   ],
   "source": [
    "def crear_solucion(Nodos): \n",
    "  solucion = [0]\n",
    "  for i in range(len(Nodos)-1):\n",
    "    solucion = solucion + [random.choice(list(set(Nodos) - set({0}) - set(solucion)))]\n",
    "  return solucion \n",
    "\n",
    "def distancia_total(solucion, problem):\n",
    "  distancia_ret = 0\n",
    "  for i in range(len(solucion)-1):\n",
    "    distancia_ret += distancia(solucion[i], solucion[i+1], problem )\n",
    "  return distancia_ret + distancia(solucion[len(solucion)-1], solucion[0], problem )\n",
    "\n",
    "solucion_prueba = crear_solucion(Nodos)\n",
    "\n",
    "print(distancia_total(solucion_prueba, problem), solucion_prueba ) \n"
   ]
  },
  {
   "cell_type": "code",
   "execution_count": 0,
   "metadata": {
    "colab": {},
    "colab_type": "code",
    "id": "D3X3LCbcTxp6"
   },
   "outputs": [],
   "source": [
    "#Busqueda Aleatoria\n",
    "def busqueda_aleatoria(problem,N):  #N = numero de iteraciones\n",
    "  Nodos = list(problem.get_nodes())\n",
    "\n",
    "  mejor_solucion = []\n",
    "  mejor_distancia = 10e10   #colocamos un valor muy alto\n",
    "\n",
    "  for i in range(N):\n",
    "    solucion = crear_solucion(Nodos)\n",
    "    distancia_solucion = distancia_total(solucion, problem)\n",
    "\n",
    "    if distancia_solucion < mejor_distancia:\n",
    "      mejor_solucion = solucion\n",
    "      mejor_distancia = distancia_solucion\n",
    "\n",
    "  print(mejor_distancia, mejor_solucion)\n",
    "  return mejor_solucion\n",
    "\n",
    "busqueda_aleatoria(problem, 5000)"
   ]
  },
  {
   "cell_type": "code",
   "execution_count": 0,
   "metadata": {
    "colab": {},
    "colab_type": "code",
    "id": "vuHMA3kBRdXX"
   },
   "outputs": [],
   "source": [
    "#Funcion vecinos\n",
    "def generar_vecina(solucion, problem):\n",
    "  mejor_solucion = []\n",
    "  mejor_distancia = 10e10\n",
    "  for i in range(1,len(solucion)-1):  #recorremos desde el 2o nodo hasta el penultimo\n",
    "    for j in range(i+1, len(solucion)): #recorremos desde el siguiente nodo hasta el final\n",
    "      vecina = solucion[:i] + [solucion[j]] + solucion[i+1:j] + [solucion[i]] + solucion[j+1:]\n",
    "      distancia_vecina = distancia_total(vecina, problem)\n",
    "      if distancia_vecina < mejor_distancia:\n",
    "        mejor_solucion = solucion\n",
    "        mejor_distancia = distancia_vecina\n",
    "  return mejor_solucion\n",
    "\n",
    "#solucion_prueba = crear_solucion(Nodos)\n",
    "#generar_vecina(solucion_prueba, problem)\n"
   ]
  },
  {
   "cell_type": "code",
   "execution_count": 0,
   "metadata": {
    "colab": {},
    "colab_type": "code",
    "id": "OXq-DKXFOB5x"
   },
   "outputs": [],
   "source": [
    "def busqueda_local(problem,N):\n",
    "  mejor_solucion = []\n",
    "  mejor_distancia = 10e10\n",
    "\n",
    "  Nodos = list(problem.get_nodes())\n",
    "  \n",
    "  solucion_referencia = crear_solucion(Nodos)\n",
    "\n",
    "  for i in range(N):\n",
    "    vecina = generar_vecina(solucion_referencia, problem)\n",
    "    distancia_vecina = distancia_total(vecina, problem)\n",
    "    if distancia_vecina < mejor_distancia:\n",
    "        mejor_solucion = vecina\n",
    "        mejor_distancia = distancia_vecina\n",
    "\n",
    "    solucion_referencia = mejor_solucion\n",
    "\n",
    "  print(distancia_total(mejor_solucion, problem), mejor_solucion)\n",
    "\n",
    "  return mejor_solucion\n",
    "\n",
    "busqueda_local(problem,100)"
   ]
  },
  {
   "cell_type": "code",
   "execution_count": 0,
   "metadata": {
    "colab": {},
    "colab_type": "code",
    "id": "hxst2ycbtIKG"
   },
   "outputs": [],
   "source": [
    "#METAHEURISTICAS: Recocido Simulado\n",
    "def probabilidad(T,d):   # T = temperatura, d = distancia\n",
    "  r=random.random()    #generamos un numero aleatorio\n",
    "\n",
    "  if r >= (e**(-1*d)/((T * .5*10**(-5)))):\n",
    "    return True\n",
    "  else:\n",
    "    return False\n",
    "\n",
    "def bajar_temperatura(T):\n",
    "  return T*.9\n",
    "  #return T-1"
   ]
  },
  {
   "cell_type": "code",
   "execution_count": 0,
   "metadata": {
    "colab": {},
    "colab_type": "code",
    "id": "bRAXTb3SwgWf"
   },
   "outputs": [],
   "source": [
    "def recocido_simulado(problema, TEMPERATURA): \n",
    "\n",
    "  solucion_referencia = crear_solucion(Nodos)\n",
    "\n",
    "  distancia_referencia = distancia_total(solucion_referencia, problem)\n",
    "\n",
    "  mejor_solucion = []\n",
    "  mejor_distancia = 10e10\n",
    "\n",
    "  while TEMPERATURA > 1:\n",
    "    vecina = generar_vecina(solucion_referencia, problem)\n",
    "    distancia_vecina = distancia_total(vecina, problem)\n",
    "\n",
    "    if distancia_vecina < mejor_distancia: \n",
    "      mejor_solucion = vecina\n",
    "      mejor_distancia = distancia_vecina\n",
    "\n",
    "    if distancia_vecina < distancia_referencia or probabilidad(TEMPERATURA, abs(distancia_referencia - distancia_vecina)):\n",
    "      solucion_referencia = vecina \n",
    "      distancia_referencia = distancia_vecina\n",
    "\n",
    "    TEMPERATURA = bajar_temperatura(TEMPERATURA)\n",
    "\n",
    "    print(mejor_distancia, mejor_solucion)\n",
    "\n",
    "    return mejor_solucion"
   ]
  },
  {
   "cell_type": "code",
   "execution_count": 33,
   "metadata": {
    "colab": {
     "base_uri": "https://localhost:8080/",
     "height": 783
    },
    "colab_type": "code",
    "id": "36iYaDUfyWvh",
    "outputId": "fd983cbf-f44c-4bb4-c2a1-89845bdcfd38"
   },
   "outputs": [
    {
     "name": "stdout",
     "output_type": "stream",
     "text": [
      "4514 [0, 12, 30, 25, 26, 37, 35, 27, 20, 7, 10, 28, 31, 1, 33, 24, 36, 13, 29, 22, 39, 32, 2, 14, 41, 11, 9, 21, 5, 17, 19, 16, 3, 6, 23, 4, 40, 34, 38, 8, 18, 15]\n"
     ]
    },
    {
     "data": {
      "text/plain": [
       "[0,\n",
       " 12,\n",
       " 30,\n",
       " 25,\n",
       " 26,\n",
       " 37,\n",
       " 35,\n",
       " 27,\n",
       " 20,\n",
       " 7,\n",
       " 10,\n",
       " 28,\n",
       " 31,\n",
       " 1,\n",
       " 33,\n",
       " 24,\n",
       " 36,\n",
       " 13,\n",
       " 29,\n",
       " 22,\n",
       " 39,\n",
       " 32,\n",
       " 2,\n",
       " 14,\n",
       " 41,\n",
       " 11,\n",
       " 9,\n",
       " 21,\n",
       " 5,\n",
       " 17,\n",
       " 19,\n",
       " 16,\n",
       " 3,\n",
       " 6,\n",
       " 23,\n",
       " 4,\n",
       " 40,\n",
       " 34,\n",
       " 38,\n",
       " 8,\n",
       " 18,\n",
       " 15]"
      ]
     },
     "execution_count": 33,
     "metadata": {
      "tags": []
     },
     "output_type": "execute_result"
    }
   ],
   "source": [
    "recocido_simulado(problem,1000)"
   ]
  }
 ],
 "metadata": {
  "colab": {
   "collapsed_sections": [],
   "name": "Salvador Gimeno - AG3.ipynb",
   "provenance": []
  },
  "kernelspec": {
   "display_name": "Python 3",
   "language": "python",
   "name": "python3"
  },
  "language_info": {
   "codemirror_mode": {
    "name": "ipython",
    "version": 3
   },
   "file_extension": ".py",
   "mimetype": "text/x-python",
   "name": "python",
   "nbconvert_exporter": "python",
   "pygments_lexer": "ipython3",
   "version": "3.7.0"
  }
 },
 "nbformat": 4,
 "nbformat_minor": 1
}
